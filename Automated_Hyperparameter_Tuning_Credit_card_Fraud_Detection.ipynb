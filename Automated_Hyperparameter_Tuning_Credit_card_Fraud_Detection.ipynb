{
  "nbformat": 4,
  "nbformat_minor": 0,
  "metadata": {
    "colab": {
      "provenance": [],
      "mount_file_id": "1typ9QAk1ixswpxWxboA0MRrn4KWnrLIv",
      "authorship_tag": "ABX9TyOYeCoR9GbPdm5gVkBGI6ye",
      "include_colab_link": true
    },
    "kernelspec": {
      "name": "python3",
      "display_name": "Python 3"
    },
    "language_info": {
      "name": "python"
    },
    "widgets": {
      "application/vnd.jupyter.widget-state+json": {
        "5ce1736092f24a1aab205bc6547b9383": {
          "model_module": "@jupyter-widgets/controls",
          "model_name": "HBoxModel",
          "model_module_version": "1.5.0",
          "state": {
            "_dom_classes": [],
            "_model_module": "@jupyter-widgets/controls",
            "_model_module_version": "1.5.0",
            "_model_name": "HBoxModel",
            "_view_count": null,
            "_view_module": "@jupyter-widgets/controls",
            "_view_module_version": "1.5.0",
            "_view_name": "HBoxView",
            "box_style": "",
            "children": [
              "IPY_MODEL_1724d62f4fcf49cd9c5f3d4848a6c04d",
              "IPY_MODEL_bd03f8981181468aa643909984a0659c",
              "IPY_MODEL_37061866f3f54f528c8b0be37077620a"
            ],
            "layout": "IPY_MODEL_81b02e09914f4add9e7cc795ea741117"
          }
        },
        "1724d62f4fcf49cd9c5f3d4848a6c04d": {
          "model_module": "@jupyter-widgets/controls",
          "model_name": "HTMLModel",
          "model_module_version": "1.5.0",
          "state": {
            "_dom_classes": [],
            "_model_module": "@jupyter-widgets/controls",
            "_model_module_version": "1.5.0",
            "_model_name": "HTMLModel",
            "_view_count": null,
            "_view_module": "@jupyter-widgets/controls",
            "_view_module_version": "1.5.0",
            "_view_name": "HTMLView",
            "description": "",
            "description_tooltip": null,
            "layout": "IPY_MODEL_8090198ea2b54c1891eda959e93956c0",
            "placeholder": "​",
            "style": "IPY_MODEL_73b1cec81f564337a1970a01b8f4b863",
            "value": "Optimization Progress: 100%"
          }
        },
        "bd03f8981181468aa643909984a0659c": {
          "model_module": "@jupyter-widgets/controls",
          "model_name": "FloatProgressModel",
          "model_module_version": "1.5.0",
          "state": {
            "_dom_classes": [],
            "_model_module": "@jupyter-widgets/controls",
            "_model_module_version": "1.5.0",
            "_model_name": "FloatProgressModel",
            "_view_count": null,
            "_view_module": "@jupyter-widgets/controls",
            "_view_module_version": "1.5.0",
            "_view_name": "ProgressView",
            "bar_style": "",
            "description": "",
            "description_tooltip": null,
            "layout": "IPY_MODEL_df3276e0fa08493abfe6ab593226408d",
            "max": 72,
            "min": 0,
            "orientation": "horizontal",
            "style": "IPY_MODEL_641947f7fa944a9db712b5b73aacf273",
            "value": 72
          }
        },
        "37061866f3f54f528c8b0be37077620a": {
          "model_module": "@jupyter-widgets/controls",
          "model_name": "HTMLModel",
          "model_module_version": "1.5.0",
          "state": {
            "_dom_classes": [],
            "_model_module": "@jupyter-widgets/controls",
            "_model_module_version": "1.5.0",
            "_model_name": "HTMLModel",
            "_view_count": null,
            "_view_module": "@jupyter-widgets/controls",
            "_view_module_version": "1.5.0",
            "_view_name": "HTMLView",
            "description": "",
            "description_tooltip": null,
            "layout": "IPY_MODEL_abd9cc4bca0f422aa57b92d7399af089",
            "placeholder": "​",
            "style": "IPY_MODEL_f4e15384eb354705902d8a678fff7ec0",
            "value": " 72/72 [08:12&lt;00:00, 10.11s/pipeline]"
          }
        },
        "81b02e09914f4add9e7cc795ea741117": {
          "model_module": "@jupyter-widgets/base",
          "model_name": "LayoutModel",
          "model_module_version": "1.2.0",
          "state": {
            "_model_module": "@jupyter-widgets/base",
            "_model_module_version": "1.2.0",
            "_model_name": "LayoutModel",
            "_view_count": null,
            "_view_module": "@jupyter-widgets/base",
            "_view_module_version": "1.2.0",
            "_view_name": "LayoutView",
            "align_content": null,
            "align_items": null,
            "align_self": null,
            "border": null,
            "bottom": null,
            "display": null,
            "flex": null,
            "flex_flow": null,
            "grid_area": null,
            "grid_auto_columns": null,
            "grid_auto_flow": null,
            "grid_auto_rows": null,
            "grid_column": null,
            "grid_gap": null,
            "grid_row": null,
            "grid_template_areas": null,
            "grid_template_columns": null,
            "grid_template_rows": null,
            "height": null,
            "justify_content": null,
            "justify_items": null,
            "left": null,
            "margin": null,
            "max_height": null,
            "max_width": null,
            "min_height": null,
            "min_width": null,
            "object_fit": null,
            "object_position": null,
            "order": null,
            "overflow": null,
            "overflow_x": null,
            "overflow_y": null,
            "padding": null,
            "right": null,
            "top": null,
            "visibility": "hidden",
            "width": null
          }
        },
        "8090198ea2b54c1891eda959e93956c0": {
          "model_module": "@jupyter-widgets/base",
          "model_name": "LayoutModel",
          "model_module_version": "1.2.0",
          "state": {
            "_model_module": "@jupyter-widgets/base",
            "_model_module_version": "1.2.0",
            "_model_name": "LayoutModel",
            "_view_count": null,
            "_view_module": "@jupyter-widgets/base",
            "_view_module_version": "1.2.0",
            "_view_name": "LayoutView",
            "align_content": null,
            "align_items": null,
            "align_self": null,
            "border": null,
            "bottom": null,
            "display": null,
            "flex": null,
            "flex_flow": null,
            "grid_area": null,
            "grid_auto_columns": null,
            "grid_auto_flow": null,
            "grid_auto_rows": null,
            "grid_column": null,
            "grid_gap": null,
            "grid_row": null,
            "grid_template_areas": null,
            "grid_template_columns": null,
            "grid_template_rows": null,
            "height": null,
            "justify_content": null,
            "justify_items": null,
            "left": null,
            "margin": null,
            "max_height": null,
            "max_width": null,
            "min_height": null,
            "min_width": null,
            "object_fit": null,
            "object_position": null,
            "order": null,
            "overflow": null,
            "overflow_x": null,
            "overflow_y": null,
            "padding": null,
            "right": null,
            "top": null,
            "visibility": null,
            "width": null
          }
        },
        "73b1cec81f564337a1970a01b8f4b863": {
          "model_module": "@jupyter-widgets/controls",
          "model_name": "DescriptionStyleModel",
          "model_module_version": "1.5.0",
          "state": {
            "_model_module": "@jupyter-widgets/controls",
            "_model_module_version": "1.5.0",
            "_model_name": "DescriptionStyleModel",
            "_view_count": null,
            "_view_module": "@jupyter-widgets/base",
            "_view_module_version": "1.2.0",
            "_view_name": "StyleView",
            "description_width": ""
          }
        },
        "df3276e0fa08493abfe6ab593226408d": {
          "model_module": "@jupyter-widgets/base",
          "model_name": "LayoutModel",
          "model_module_version": "1.2.0",
          "state": {
            "_model_module": "@jupyter-widgets/base",
            "_model_module_version": "1.2.0",
            "_model_name": "LayoutModel",
            "_view_count": null,
            "_view_module": "@jupyter-widgets/base",
            "_view_module_version": "1.2.0",
            "_view_name": "LayoutView",
            "align_content": null,
            "align_items": null,
            "align_self": null,
            "border": null,
            "bottom": null,
            "display": null,
            "flex": null,
            "flex_flow": null,
            "grid_area": null,
            "grid_auto_columns": null,
            "grid_auto_flow": null,
            "grid_auto_rows": null,
            "grid_column": null,
            "grid_gap": null,
            "grid_row": null,
            "grid_template_areas": null,
            "grid_template_columns": null,
            "grid_template_rows": null,
            "height": null,
            "justify_content": null,
            "justify_items": null,
            "left": null,
            "margin": null,
            "max_height": null,
            "max_width": null,
            "min_height": null,
            "min_width": null,
            "object_fit": null,
            "object_position": null,
            "order": null,
            "overflow": null,
            "overflow_x": null,
            "overflow_y": null,
            "padding": null,
            "right": null,
            "top": null,
            "visibility": null,
            "width": null
          }
        },
        "641947f7fa944a9db712b5b73aacf273": {
          "model_module": "@jupyter-widgets/controls",
          "model_name": "ProgressStyleModel",
          "model_module_version": "1.5.0",
          "state": {
            "_model_module": "@jupyter-widgets/controls",
            "_model_module_version": "1.5.0",
            "_model_name": "ProgressStyleModel",
            "_view_count": null,
            "_view_module": "@jupyter-widgets/base",
            "_view_module_version": "1.2.0",
            "_view_name": "StyleView",
            "bar_color": null,
            "description_width": ""
          }
        },
        "abd9cc4bca0f422aa57b92d7399af089": {
          "model_module": "@jupyter-widgets/base",
          "model_name": "LayoutModel",
          "model_module_version": "1.2.0",
          "state": {
            "_model_module": "@jupyter-widgets/base",
            "_model_module_version": "1.2.0",
            "_model_name": "LayoutModel",
            "_view_count": null,
            "_view_module": "@jupyter-widgets/base",
            "_view_module_version": "1.2.0",
            "_view_name": "LayoutView",
            "align_content": null,
            "align_items": null,
            "align_self": null,
            "border": null,
            "bottom": null,
            "display": null,
            "flex": null,
            "flex_flow": null,
            "grid_area": null,
            "grid_auto_columns": null,
            "grid_auto_flow": null,
            "grid_auto_rows": null,
            "grid_column": null,
            "grid_gap": null,
            "grid_row": null,
            "grid_template_areas": null,
            "grid_template_columns": null,
            "grid_template_rows": null,
            "height": null,
            "justify_content": null,
            "justify_items": null,
            "left": null,
            "margin": null,
            "max_height": null,
            "max_width": null,
            "min_height": null,
            "min_width": null,
            "object_fit": null,
            "object_position": null,
            "order": null,
            "overflow": null,
            "overflow_x": null,
            "overflow_y": null,
            "padding": null,
            "right": null,
            "top": null,
            "visibility": null,
            "width": null
          }
        },
        "f4e15384eb354705902d8a678fff7ec0": {
          "model_module": "@jupyter-widgets/controls",
          "model_name": "DescriptionStyleModel",
          "model_module_version": "1.5.0",
          "state": {
            "_model_module": "@jupyter-widgets/controls",
            "_model_module_version": "1.5.0",
            "_model_name": "DescriptionStyleModel",
            "_view_count": null,
            "_view_module": "@jupyter-widgets/base",
            "_view_module_version": "1.2.0",
            "_view_name": "StyleView",
            "description_width": ""
          }
        }
      }
    }
  },
  "cells": [
    {
      "cell_type": "markdown",
      "metadata": {
        "id": "view-in-github",
        "colab_type": "text"
      },
      "source": [
        "<a href=\"https://colab.research.google.com/github/Devanshu0502/Credit-Card-Fraud-Detection/blob/main/Automated_Hyperparameter_Tuning_Credit_card_Fraud_Detection.ipynb\" target=\"_parent\"><img src=\"https://colab.research.google.com/assets/colab-badge.svg\" alt=\"Open In Colab\"/></a>"
      ]
    },
    {
      "cell_type": "code",
      "execution_count": 1,
      "metadata": {
        "id": "1-JmLIwyV5Xb"
      },
      "outputs": [],
      "source": [
        "import pandas as pd\n",
        "from sklearn.preprocessing import StandardScaler\n",
        "from sklearn.model_selection import train_test_split\n",
        "df = pd.read_csv('/content/drive/MyDrive/Projects/Credit Card/creditcard.csv')"
      ]
    },
    {
      "cell_type": "code",
      "source": [
        "X = df[['V17', 'V9', 'V6', 'V12']]\n",
        "Y = df['Class']"
      ],
      "metadata": {
        "id": "_E2hndnUWf68"
      },
      "execution_count": 2,
      "outputs": []
    },
    {
      "cell_type": "code",
      "source": [
        "X_Train, X_Test, Y_Train, Y_Test = train_test_split(X, Y, test_size = 0.30,random_state = 101)"
      ],
      "metadata": {
        "id": "qlfC4wj2WiP7"
      },
      "execution_count": 3,
      "outputs": []
    },
    {
      "cell_type": "code",
      "source": [
        "from sklearn.metrics import classification_report,confusion_matrix\n",
        "from sklearn.ensemble import RandomForestClassifier\n",
        "from sklearn.metrics import accuracy_score\n",
        "\n",
        "model = RandomForestClassifier(random_state= 101).fit(X_Train,Y_Train)\n",
        "predictionforest = model.predict(X_Test)\n",
        "print(confusion_matrix(Y_Test,predictionforest))\n",
        "print(classification_report(Y_Test,predictionforest))\n",
        "acc1 = accuracy_score(Y_Test,predictionforest)"
      ],
      "metadata": {
        "colab": {
          "base_uri": "https://localhost:8080/"
        },
        "id": "YWLWy2IRWjWS",
        "outputId": "fb21a7fa-f888-4fdb-a631-d3decec49564"
      },
      "execution_count": 4,
      "outputs": [
        {
          "output_type": "stream",
          "name": "stdout",
          "text": [
            "[[85289    10]\n",
            " [   34   110]]\n",
            "              precision    recall  f1-score   support\n",
            "\n",
            "           0       1.00      1.00      1.00     85299\n",
            "           1       0.92      0.76      0.83       144\n",
            "\n",
            "    accuracy                           1.00     85443\n",
            "   macro avg       0.96      0.88      0.92     85443\n",
            "weighted avg       1.00      1.00      1.00     85443\n",
            "\n"
          ]
        }
      ]
    },
    {
      "cell_type": "code",
      "source": [
        "model = RandomForestClassifier(n_estimators=10, random_state= 101).fit(X_Train,Y_Train)\n",
        "predictionforest = model.predict(X_Test)\n",
        "print(confusion_matrix(Y_Test,predictionforest))\n",
        "print(classification_report(Y_Test,predictionforest))\n",
        "acc2 = accuracy_score(Y_Test,predictionforest)"
      ],
      "metadata": {
        "colab": {
          "base_uri": "https://localhost:8080/"
        },
        "id": "SkRJiCp0Wk3l",
        "outputId": "d1a2722a-5a76-4c79-a4d9-a3e600e8b1d9"
      },
      "execution_count": 5,
      "outputs": [
        {
          "output_type": "stream",
          "name": "stdout",
          "text": [
            "[[85288    11]\n",
            " [   41   103]]\n",
            "              precision    recall  f1-score   support\n",
            "\n",
            "           0       1.00      1.00      1.00     85299\n",
            "           1       0.90      0.72      0.80       144\n",
            "\n",
            "    accuracy                           1.00     85443\n",
            "   macro avg       0.95      0.86      0.90     85443\n",
            "weighted avg       1.00      1.00      1.00     85443\n",
            "\n"
          ]
        }
      ]
    },
    {
      "cell_type": "code",
      "source": [
        "import numpy as np \n",
        "from sklearn.model_selection import RandomizedSearchCV\n",
        "from sklearn.model_selection import cross_val_score\n",
        "\n",
        "random_search = {'criterion': ['entropy', 'gini'],\n",
        "               'max_depth': [2],\n",
        "               'max_features': ['auto', 'sqrt'],\n",
        "               'min_samples_leaf': [4, 6, 8],\n",
        "               'min_samples_split': [5, 7,10],\n",
        "               'n_estimators': [20]}\n",
        "\n",
        "clf = RandomForestClassifier()\n",
        "model = RandomizedSearchCV(estimator = clf, param_distributions = random_search, n_iter = 10, \n",
        "                               cv = 4, verbose= 1, random_state= 101, n_jobs = -1)\n",
        "model.fit(X_Train,Y_Train)"
      ],
      "metadata": {
        "colab": {
          "base_uri": "https://localhost:8080/",
          "height": 190
        },
        "id": "BECCAAB5XNHr",
        "outputId": "795b6682-853c-42fb-f343-a1659d388166"
      },
      "execution_count": 6,
      "outputs": [
        {
          "output_type": "stream",
          "name": "stdout",
          "text": [
            "Fitting 4 folds for each of 10 candidates, totalling 40 fits\n"
          ]
        },
        {
          "output_type": "stream",
          "name": "stderr",
          "text": [
            "/usr/local/lib/python3.9/dist-packages/sklearn/ensemble/_forest.py:424: FutureWarning: `max_features='auto'` has been deprecated in 1.1 and will be removed in 1.3. To keep the past behaviour, explicitly set `max_features='sqrt'` or remove this parameter as it is also the default value for RandomForestClassifiers and ExtraTreesClassifiers.\n",
            "  warn(\n"
          ]
        },
        {
          "output_type": "execute_result",
          "data": {
            "text/plain": [
              "RandomizedSearchCV(cv=4, estimator=RandomForestClassifier(), n_jobs=-1,\n",
              "                   param_distributions={'criterion': ['entropy', 'gini'],\n",
              "                                        'max_depth': [2],\n",
              "                                        'max_features': ['auto', 'sqrt'],\n",
              "                                        'min_samples_leaf': [4, 6, 8],\n",
              "                                        'min_samples_split': [5, 7, 10],\n",
              "                                        'n_estimators': [20]},\n",
              "                   random_state=101, verbose=1)"
            ],
            "text/html": [
              "<style>#sk-container-id-1 {color: black;background-color: white;}#sk-container-id-1 pre{padding: 0;}#sk-container-id-1 div.sk-toggleable {background-color: white;}#sk-container-id-1 label.sk-toggleable__label {cursor: pointer;display: block;width: 100%;margin-bottom: 0;padding: 0.3em;box-sizing: border-box;text-align: center;}#sk-container-id-1 label.sk-toggleable__label-arrow:before {content: \"▸\";float: left;margin-right: 0.25em;color: #696969;}#sk-container-id-1 label.sk-toggleable__label-arrow:hover:before {color: black;}#sk-container-id-1 div.sk-estimator:hover label.sk-toggleable__label-arrow:before {color: black;}#sk-container-id-1 div.sk-toggleable__content {max-height: 0;max-width: 0;overflow: hidden;text-align: left;background-color: #f0f8ff;}#sk-container-id-1 div.sk-toggleable__content pre {margin: 0.2em;color: black;border-radius: 0.25em;background-color: #f0f8ff;}#sk-container-id-1 input.sk-toggleable__control:checked~div.sk-toggleable__content {max-height: 200px;max-width: 100%;overflow: auto;}#sk-container-id-1 input.sk-toggleable__control:checked~label.sk-toggleable__label-arrow:before {content: \"▾\";}#sk-container-id-1 div.sk-estimator input.sk-toggleable__control:checked~label.sk-toggleable__label {background-color: #d4ebff;}#sk-container-id-1 div.sk-label input.sk-toggleable__control:checked~label.sk-toggleable__label {background-color: #d4ebff;}#sk-container-id-1 input.sk-hidden--visually {border: 0;clip: rect(1px 1px 1px 1px);clip: rect(1px, 1px, 1px, 1px);height: 1px;margin: -1px;overflow: hidden;padding: 0;position: absolute;width: 1px;}#sk-container-id-1 div.sk-estimator {font-family: monospace;background-color: #f0f8ff;border: 1px dotted black;border-radius: 0.25em;box-sizing: border-box;margin-bottom: 0.5em;}#sk-container-id-1 div.sk-estimator:hover {background-color: #d4ebff;}#sk-container-id-1 div.sk-parallel-item::after {content: \"\";width: 100%;border-bottom: 1px solid gray;flex-grow: 1;}#sk-container-id-1 div.sk-label:hover label.sk-toggleable__label {background-color: #d4ebff;}#sk-container-id-1 div.sk-serial::before {content: \"\";position: absolute;border-left: 1px solid gray;box-sizing: border-box;top: 0;bottom: 0;left: 50%;z-index: 0;}#sk-container-id-1 div.sk-serial {display: flex;flex-direction: column;align-items: center;background-color: white;padding-right: 0.2em;padding-left: 0.2em;position: relative;}#sk-container-id-1 div.sk-item {position: relative;z-index: 1;}#sk-container-id-1 div.sk-parallel {display: flex;align-items: stretch;justify-content: center;background-color: white;position: relative;}#sk-container-id-1 div.sk-item::before, #sk-container-id-1 div.sk-parallel-item::before {content: \"\";position: absolute;border-left: 1px solid gray;box-sizing: border-box;top: 0;bottom: 0;left: 50%;z-index: -1;}#sk-container-id-1 div.sk-parallel-item {display: flex;flex-direction: column;z-index: 1;position: relative;background-color: white;}#sk-container-id-1 div.sk-parallel-item:first-child::after {align-self: flex-end;width: 50%;}#sk-container-id-1 div.sk-parallel-item:last-child::after {align-self: flex-start;width: 50%;}#sk-container-id-1 div.sk-parallel-item:only-child::after {width: 0;}#sk-container-id-1 div.sk-dashed-wrapped {border: 1px dashed gray;margin: 0 0.4em 0.5em 0.4em;box-sizing: border-box;padding-bottom: 0.4em;background-color: white;}#sk-container-id-1 div.sk-label label {font-family: monospace;font-weight: bold;display: inline-block;line-height: 1.2em;}#sk-container-id-1 div.sk-label-container {text-align: center;}#sk-container-id-1 div.sk-container {/* jupyter's `normalize.less` sets `[hidden] { display: none; }` but bootstrap.min.css set `[hidden] { display: none !important; }` so we also need the `!important` here to be able to override the default hidden behavior on the sphinx rendered scikit-learn.org. See: https://github.com/scikit-learn/scikit-learn/issues/21755 */display: inline-block !important;position: relative;}#sk-container-id-1 div.sk-text-repr-fallback {display: none;}</style><div id=\"sk-container-id-1\" class=\"sk-top-container\"><div class=\"sk-text-repr-fallback\"><pre>RandomizedSearchCV(cv=4, estimator=RandomForestClassifier(), n_jobs=-1,\n",
              "                   param_distributions={&#x27;criterion&#x27;: [&#x27;entropy&#x27;, &#x27;gini&#x27;],\n",
              "                                        &#x27;max_depth&#x27;: [2],\n",
              "                                        &#x27;max_features&#x27;: [&#x27;auto&#x27;, &#x27;sqrt&#x27;],\n",
              "                                        &#x27;min_samples_leaf&#x27;: [4, 6, 8],\n",
              "                                        &#x27;min_samples_split&#x27;: [5, 7, 10],\n",
              "                                        &#x27;n_estimators&#x27;: [20]},\n",
              "                   random_state=101, verbose=1)</pre><b>In a Jupyter environment, please rerun this cell to show the HTML representation or trust the notebook. <br />On GitHub, the HTML representation is unable to render, please try loading this page with nbviewer.org.</b></div><div class=\"sk-container\" hidden><div class=\"sk-item sk-dashed-wrapped\"><div class=\"sk-label-container\"><div class=\"sk-label sk-toggleable\"><input class=\"sk-toggleable__control sk-hidden--visually\" id=\"sk-estimator-id-1\" type=\"checkbox\" ><label for=\"sk-estimator-id-1\" class=\"sk-toggleable__label sk-toggleable__label-arrow\">RandomizedSearchCV</label><div class=\"sk-toggleable__content\"><pre>RandomizedSearchCV(cv=4, estimator=RandomForestClassifier(), n_jobs=-1,\n",
              "                   param_distributions={&#x27;criterion&#x27;: [&#x27;entropy&#x27;, &#x27;gini&#x27;],\n",
              "                                        &#x27;max_depth&#x27;: [2],\n",
              "                                        &#x27;max_features&#x27;: [&#x27;auto&#x27;, &#x27;sqrt&#x27;],\n",
              "                                        &#x27;min_samples_leaf&#x27;: [4, 6, 8],\n",
              "                                        &#x27;min_samples_split&#x27;: [5, 7, 10],\n",
              "                                        &#x27;n_estimators&#x27;: [20]},\n",
              "                   random_state=101, verbose=1)</pre></div></div></div><div class=\"sk-parallel\"><div class=\"sk-parallel-item\"><div class=\"sk-item\"><div class=\"sk-label-container\"><div class=\"sk-label sk-toggleable\"><input class=\"sk-toggleable__control sk-hidden--visually\" id=\"sk-estimator-id-2\" type=\"checkbox\" ><label for=\"sk-estimator-id-2\" class=\"sk-toggleable__label sk-toggleable__label-arrow\">estimator: RandomForestClassifier</label><div class=\"sk-toggleable__content\"><pre>RandomForestClassifier()</pre></div></div></div><div class=\"sk-serial\"><div class=\"sk-item\"><div class=\"sk-estimator sk-toggleable\"><input class=\"sk-toggleable__control sk-hidden--visually\" id=\"sk-estimator-id-3\" type=\"checkbox\" ><label for=\"sk-estimator-id-3\" class=\"sk-toggleable__label sk-toggleable__label-arrow\">RandomForestClassifier</label><div class=\"sk-toggleable__content\"><pre>RandomForestClassifier()</pre></div></div></div></div></div></div></div></div></div></div>"
            ]
          },
          "metadata": {},
          "execution_count": 6
        }
      ]
    },
    {
      "cell_type": "code",
      "source": [
        "import seaborn as sns\n",
        "\n",
        "table = pd.pivot_table(pd.DataFrame(model.cv_results_),\n",
        "    values='mean_test_score', index='param_n_estimators', \n",
        "                       columns='param_criterion')\n",
        "     \n",
        "sns.heatmap(table)"
      ],
      "metadata": {
        "colab": {
          "base_uri": "https://localhost:8080/",
          "height": 482
        },
        "id": "B39B1DnrXTwb",
        "outputId": "3331102e-b02a-4775-8ca3-4399aa67348b"
      },
      "execution_count": 7,
      "outputs": [
        {
          "output_type": "execute_result",
          "data": {
            "text/plain": [
              "<Axes: xlabel='param_criterion', ylabel='param_n_estimators'>"
            ]
          },
          "metadata": {},
          "execution_count": 7
        },
        {
          "output_type": "display_data",
          "data": {
            "text/plain": [
              "<Figure size 640x480 with 2 Axes>"
            ],
            "image/png": "[encoded data removed]"
          },
          "metadata": {}
        }
      ]
    },
    {
      "cell_type": "code",
      "source": [
        "predictionforest = model.best_estimator_.predict(X_Test)\n",
        "print(confusion_matrix(Y_Test,predictionforest))\n",
        "print(classification_report(Y_Test,predictionforest))\n",
        "acc3 = accuracy_score(Y_Test,predictionforest)"
      ],
      "metadata": {
        "colab": {
          "base_uri": "https://localhost:8080/"
        },
        "id": "YahfBPHLXp3B",
        "outputId": "c0735de8-e5c0-4a1d-e6fa-c0453325d955"
      },
      "execution_count": 8,
      "outputs": [
        {
          "output_type": "stream",
          "name": "stdout",
          "text": [
            "[[85279    20]\n",
            " [   40   104]]\n",
            "              precision    recall  f1-score   support\n",
            "\n",
            "           0       1.00      1.00      1.00     85299\n",
            "           1       0.84      0.72      0.78       144\n",
            "\n",
            "    accuracy                           1.00     85443\n",
            "   macro avg       0.92      0.86      0.89     85443\n",
            "weighted avg       1.00      1.00      1.00     85443\n",
            "\n"
          ]
        }
      ]
    },
    {
      "cell_type": "code",
      "source": [
        "from sklearn.model_selection import GridSearchCV\n",
        "\n",
        "grid_search = {'criterion': ['entropy', 'gini'],\n",
        "               'max_depth': [2],\n",
        "               'max_features': ['auto', 'sqrt'],\n",
        "               'min_samples_leaf': [4, 6, 8],\n",
        "               'min_samples_split': [5, 7,10],\n",
        "               'n_estimators': [20]}\n",
        "\n",
        "clf = RandomForestClassifier()\n",
        "model = GridSearchCV(estimator = clf, param_grid = grid_search, \n",
        "                               cv = 4, verbose= 5, n_jobs = -1)\n",
        "model.fit(X_Train,Y_Train)\n",
        "\n",
        "predictionforest = model.best_estimator_.predict(X_Test)\n",
        "print(confusion_matrix(Y_Test,predictionforest))\n",
        "print(classification_report(Y_Test,predictionforest))\n",
        "acc4 = accuracy_score(Y_Test,predictionforest)"
      ],
      "metadata": {
        "colab": {
          "base_uri": "https://localhost:8080/"
        },
        "id": "jAFA_zDxXvlU",
        "outputId": "e7fd5f05-2124-48b6-f91b-46a4a30a4158"
      },
      "execution_count": 9,
      "outputs": [
        {
          "output_type": "stream",
          "name": "stdout",
          "text": [
            "Fitting 4 folds for each of 36 candidates, totalling 144 fits\n",
            "[[85277    22]\n",
            " [   47    97]]\n",
            "              precision    recall  f1-score   support\n",
            "\n",
            "           0       1.00      1.00      1.00     85299\n",
            "           1       0.82      0.67      0.74       144\n",
            "\n",
            "    accuracy                           1.00     85443\n",
            "   macro avg       0.91      0.84      0.87     85443\n",
            "weighted avg       1.00      1.00      1.00     85443\n",
            "\n"
          ]
        }
      ]
    },
    {
      "cell_type": "code",
      "source": [
        "pip install deap update_checker tqdm stopit"
      ],
      "metadata": {
        "colab": {
          "base_uri": "https://localhost:8080/"
        },
        "id": "_R-m5-vEX0A1",
        "outputId": "f0dec7e9-22f2-4d4b-fdb8-c171657be956"
      },
      "execution_count": 10,
      "outputs": [
        {
          "output_type": "stream",
          "name": "stdout",
          "text": [
            "Looking in indexes: https://pypi.org/simple, https://us-python.pkg.dev/colab-wheels/public/simple/\n",
            "Requirement already satisfied: deap in /usr/local/lib/python3.9/dist-packages (1.3.3)\n",
            "Requirement already satisfied: update_checker in /usr/local/lib/python3.9/dist-packages (0.18.0)\n",
            "Requirement already satisfied: tqdm in /usr/local/lib/python3.9/dist-packages (4.65.0)\n",
            "Requirement already satisfied: stopit in /usr/local/lib/python3.9/dist-packages (1.1.2)\n",
            "Requirement already satisfied: numpy in /usr/local/lib/python3.9/dist-packages (from deap) (1.22.4)\n",
            "Requirement already satisfied: requests>=2.3.0 in /usr/local/lib/python3.9/dist-packages (from update_checker) (2.27.1)\n",
            "Requirement already satisfied: urllib3<1.27,>=1.21.1 in /usr/local/lib/python3.9/dist-packages (from requests>=2.3.0->update_checker) (1.26.15)\n",
            "Requirement already satisfied: idna<4,>=2.5 in /usr/local/lib/python3.9/dist-packages (from requests>=2.3.0->update_checker) (3.4)\n",
            "Requirement already satisfied: charset-normalizer~=2.0.0 in /usr/local/lib/python3.9/dist-packages (from requests>=2.3.0->update_checker) (2.0.12)\n",
            "Requirement already satisfied: certifi>=2017.4.17 in /usr/local/lib/python3.9/dist-packages (from requests>=2.3.0->update_checker) (2022.12.7)\n"
          ]
        }
      ]
    },
    {
      "cell_type": "code",
      "source": [
        "pip install tpot"
      ],
      "metadata": {
        "colab": {
          "base_uri": "https://localhost:8080/"
        },
        "id": "hxhiUm_fX8UE",
        "outputId": "814a9185-01c3-437c-faf1-ccdb97f2a163"
      },
      "execution_count": 11,
      "outputs": [
        {
          "output_type": "stream",
          "name": "stdout",
          "text": [
            "Looking in indexes: https://pypi.org/simple, https://us-python.pkg.dev/colab-wheels/public/simple/\n",
            "Requirement already satisfied: tpot in /usr/local/lib/python3.9/dist-packages (0.11.7)\n",
            "Requirement already satisfied: scipy>=1.3.1 in /usr/local/lib/python3.9/dist-packages (from tpot) (1.10.1)\n",
            "Requirement already satisfied: xgboost>=1.1.0 in /usr/local/lib/python3.9/dist-packages (from tpot) (1.7.5)\n",
            "Requirement already satisfied: numpy>=1.16.3 in /usr/local/lib/python3.9/dist-packages (from tpot) (1.22.4)\n",
            "Requirement already satisfied: tqdm>=4.36.1 in /usr/local/lib/python3.9/dist-packages (from tpot) (4.65.0)\n",
            "Requirement already satisfied: scikit-learn>=0.22.0 in /usr/local/lib/python3.9/dist-packages (from tpot) (1.2.2)\n",
            "Requirement already satisfied: joblib>=0.13.2 in /usr/local/lib/python3.9/dist-packages (from tpot) (1.2.0)\n",
            "Requirement already satisfied: update-checker>=0.16 in /usr/local/lib/python3.9/dist-packages (from tpot) (0.18.0)\n",
            "Requirement already satisfied: pandas>=0.24.2 in /usr/local/lib/python3.9/dist-packages (from tpot) (1.5.3)\n",
            "Requirement already satisfied: deap>=1.2 in /usr/local/lib/python3.9/dist-packages (from tpot) (1.3.3)\n",
            "Requirement already satisfied: stopit>=1.1.1 in /usr/local/lib/python3.9/dist-packages (from tpot) (1.1.2)\n",
            "Requirement already satisfied: python-dateutil>=2.8.1 in /usr/local/lib/python3.9/dist-packages (from pandas>=0.24.2->tpot) (2.8.2)\n",
            "Requirement already satisfied: pytz>=2020.1 in /usr/local/lib/python3.9/dist-packages (from pandas>=0.24.2->tpot) (2022.7.1)\n",
            "Requirement already satisfied: threadpoolctl>=2.0.0 in /usr/local/lib/python3.9/dist-packages (from scikit-learn>=0.22.0->tpot) (3.1.0)\n",
            "Requirement already satisfied: requests>=2.3.0 in /usr/local/lib/python3.9/dist-packages (from update-checker>=0.16->tpot) (2.27.1)\n",
            "Requirement already satisfied: six>=1.5 in /usr/local/lib/python3.9/dist-packages (from python-dateutil>=2.8.1->pandas>=0.24.2->tpot) (1.16.0)\n",
            "Requirement already satisfied: urllib3<1.27,>=1.21.1 in /usr/local/lib/python3.9/dist-packages (from requests>=2.3.0->update-checker>=0.16->tpot) (1.26.15)\n",
            "Requirement already satisfied: idna<4,>=2.5 in /usr/local/lib/python3.9/dist-packages (from requests>=2.3.0->update-checker>=0.16->tpot) (3.4)\n",
            "Requirement already satisfied: certifi>=2017.4.17 in /usr/local/lib/python3.9/dist-packages (from requests>=2.3.0->update-checker>=0.16->tpot) (2022.12.7)\n",
            "Requirement already satisfied: charset-normalizer~=2.0.0 in /usr/local/lib/python3.9/dist-packages (from requests>=2.3.0->update-checker>=0.16->tpot) (2.0.12)\n"
          ]
        }
      ]
    },
    {
      "cell_type": "code",
      "source": [
        "from tpot import TPOTClassifier\n",
        "\n",
        "parameters = {'criterion': ['entropy', 'gini'],\n",
        "               'max_depth': [2],\n",
        "               'max_features': ['auto'],\n",
        "               'min_samples_leaf': [4, 12],\n",
        "               'min_samples_split': [5, 10],\n",
        "               'n_estimators': [10]}\n",
        "               \n",
        "tpot_classifier = TPOTClassifier(generations= 4, population_size= 24, offspring_size= 12,\n",
        "                                 verbosity= 2, early_stop= 12,\n",
        "                                 config_dict=\n",
        "                                 {'sklearn.ensemble.RandomForestClassifier': parameters}, \n",
        "                                 cv = 4, scoring = 'accuracy')\n",
        "tpot_classifier.fit(X_Train,Y_Train) "
      ],
      "metadata": {
        "colab": {
          "base_uri": "https://localhost:8080/",
          "height": 442,
          "referenced_widgets": [
            "5ce1736092f24a1aab205bc6547b9383",
            "1724d62f4fcf49cd9c5f3d4848a6c04d",
            "bd03f8981181468aa643909984a0659c",
            "37061866f3f54f528c8b0be37077620a",
            "81b02e09914f4add9e7cc795ea741117",
            "8090198ea2b54c1891eda959e93956c0",
            "73b1cec81f564337a1970a01b8f4b863",
            "df3276e0fa08493abfe6ab593226408d",
            "641947f7fa944a9db712b5b73aacf273",
            "abd9cc4bca0f422aa57b92d7399af089",
            "f4e15384eb354705902d8a678fff7ec0"
          ]
        },
        "id": "npoNQo9gZAND",
        "outputId": "7a69d19e-abaa-48ee-e264-b7d1ee5cf1fb"
      },
      "execution_count": 12,
      "outputs": [
        {
          "output_type": "display_data",
          "data": {
            "text/plain": [
              "Optimization Progress:   0%|          | 0/72 [00:00<?, ?pipeline/s]"
            ],
            "application/vnd.jupyter.widget-view+json": {
              "version_major": 2,
              "version_minor": 0,
              "model_id": "5ce1736092f24a1aab205bc6547b9383"
            }
          },
          "metadata": {}
        },
        {
          "output_type": "stream",
          "name": "stdout",
          "text": [
            "\n",
            "Generation 1 - Current best internal CV score: 0.9992225276378885\n",
            "\n",
            "Generation 2 - Current best internal CV score: 0.9992225276378885\n",
            "\n",
            "Generation 3 - Current best internal CV score: 0.9992225276378885\n",
            "\n",
            "Generation 4 - Current best internal CV score: 0.9992325595393351\n",
            "\n",
            "Best pipeline: RandomForestClassifier(RandomForestClassifier(CombineDFs(input_matrix, CombineDFs(input_matrix, input_matrix)), criterion=entropy, max_depth=2, max_features=auto, min_samples_leaf=4, min_samples_split=5, n_estimators=10), criterion=entropy, max_depth=2, max_features=auto, min_samples_leaf=4, min_samples_split=10, n_estimators=10)\n"
          ]
        },
        {
          "output_type": "execute_result",
          "data": {
            "text/plain": [
              "TPOTClassifier(config_dict={'sklearn.ensemble.RandomForestClassifier': {'criterion': ['entropy',\n",
              "                                                                                      'gini'],\n",
              "                                                                        'max_depth': [2],\n",
              "                                                                        'max_features': ['auto'],\n",
              "                                                                        'min_samples_leaf': [4,\n",
              "                                                                                             12],\n",
              "                                                                        'min_samples_split': [5,\n",
              "                                                                                              10],\n",
              "                                                                        'n_estimators': [10]}},\n",
              "               cv=4, early_stop=12, generations=4, offspring_size=12,\n",
              "               population_size=24, scoring='accuracy', verbosity=2)"
            ],
            "text/html": [
              "<style>#sk-container-id-2 {color: black;background-color: white;}#sk-container-id-2 pre{padding: 0;}#sk-container-id-2 div.sk-toggleable {background-color: white;}#sk-container-id-2 label.sk-toggleable__label {cursor: pointer;display: block;width: 100%;margin-bottom: 0;padding: 0.3em;box-sizing: border-box;text-align: center;}#sk-container-id-2 label.sk-toggleable__label-arrow:before {content: \"▸\";float: left;margin-right: 0.25em;color: #696969;}#sk-container-id-2 label.sk-toggleable__label-arrow:hover:before {color: black;}#sk-container-id-2 div.sk-estimator:hover label.sk-toggleable__label-arrow:before {color: black;}#sk-container-id-2 div.sk-toggleable__content {max-height: 0;max-width: 0;overflow: hidden;text-align: left;background-color: #f0f8ff;}#sk-container-id-2 div.sk-toggleable__content pre {margin: 0.2em;color: black;border-radius: 0.25em;background-color: #f0f8ff;}#sk-container-id-2 input.sk-toggleable__control:checked~div.sk-toggleable__content {max-height: 200px;max-width: 100%;overflow: auto;}#sk-container-id-2 input.sk-toggleable__control:checked~label.sk-toggleable__label-arrow:before {content: \"▾\";}#sk-container-id-2 div.sk-estimator input.sk-toggleable__control:checked~label.sk-toggleable__label {background-color: #d4ebff;}#sk-container-id-2 div.sk-label input.sk-toggleable__control:checked~label.sk-toggleable__label {background-color: #d4ebff;}#sk-container-id-2 input.sk-hidden--visually {border: 0;clip: rect(1px 1px 1px 1px);clip: rect(1px, 1px, 1px, 1px);height: 1px;margin: -1px;overflow: hidden;padding: 0;position: absolute;width: 1px;}#sk-container-id-2 div.sk-estimator {font-family: monospace;background-color: #f0f8ff;border: 1px dotted black;border-radius: 0.25em;box-sizing: border-box;margin-bottom: 0.5em;}#sk-container-id-2 div.sk-estimator:hover {background-color: #d4ebff;}#sk-container-id-2 div.sk-parallel-item::after {content: \"\";width: 100%;border-bottom: 1px solid gray;flex-grow: 1;}#sk-container-id-2 div.sk-label:hover label.sk-toggleable__label {background-color: #d4ebff;}#sk-container-id-2 div.sk-serial::before {content: \"\";position: absolute;border-left: 1px solid gray;box-sizing: border-box;top: 0;bottom: 0;left: 50%;z-index: 0;}#sk-container-id-2 div.sk-serial {display: flex;flex-direction: column;align-items: center;background-color: white;padding-right: 0.2em;padding-left: 0.2em;position: relative;}#sk-container-id-2 div.sk-item {position: relative;z-index: 1;}#sk-container-id-2 div.sk-parallel {display: flex;align-items: stretch;justify-content: center;background-color: white;position: relative;}#sk-container-id-2 div.sk-item::before, #sk-container-id-2 div.sk-parallel-item::before {content: \"\";position: absolute;border-left: 1px solid gray;box-sizing: border-box;top: 0;bottom: 0;left: 50%;z-index: -1;}#sk-container-id-2 div.sk-parallel-item {display: flex;flex-direction: column;z-index: 1;position: relative;background-color: white;}#sk-container-id-2 div.sk-parallel-item:first-child::after {align-self: flex-end;width: 50%;}#sk-container-id-2 div.sk-parallel-item:last-child::after {align-self: flex-start;width: 50%;}#sk-container-id-2 div.sk-parallel-item:only-child::after {width: 0;}#sk-container-id-2 div.sk-dashed-wrapped {border: 1px dashed gray;margin: 0 0.4em 0.5em 0.4em;box-sizing: border-box;padding-bottom: 0.4em;background-color: white;}#sk-container-id-2 div.sk-label label {font-family: monospace;font-weight: bold;display: inline-block;line-height: 1.2em;}#sk-container-id-2 div.sk-label-container {text-align: center;}#sk-container-id-2 div.sk-container {/* jupyter's `normalize.less` sets `[hidden] { display: none; }` but bootstrap.min.css set `[hidden] { display: none !important; }` so we also need the `!important` here to be able to override the default hidden behavior on the sphinx rendered scikit-learn.org. See: https://github.com/scikit-learn/scikit-learn/issues/21755 */display: inline-block !important;position: relative;}#sk-container-id-2 div.sk-text-repr-fallback {display: none;}</style><div id=\"sk-container-id-2\" class=\"sk-top-container\"><div class=\"sk-text-repr-fallback\"><pre>TPOTClassifier(config_dict={&#x27;sklearn.ensemble.RandomForestClassifier&#x27;: {&#x27;criterion&#x27;: [&#x27;entropy&#x27;,\n",
              "                                                                                      &#x27;gini&#x27;],\n",
              "                                                                        &#x27;max_depth&#x27;: [2],\n",
              "                                                                        &#x27;max_features&#x27;: [&#x27;auto&#x27;],\n",
              "                                                                        &#x27;min_samples_leaf&#x27;: [4,\n",
              "                                                                                             12],\n",
              "                                                                        &#x27;min_samples_split&#x27;: [5,\n",
              "                                                                                              10],\n",
              "                                                                        &#x27;n_estimators&#x27;: [10]}},\n",
              "               cv=4, early_stop=12, generations=4, offspring_size=12,\n",
              "               population_size=24, scoring=&#x27;accuracy&#x27;, verbosity=2)</pre><b>In a Jupyter environment, please rerun this cell to show the HTML representation or trust the notebook. <br />On GitHub, the HTML representation is unable to render, please try loading this page with nbviewer.org.</b></div><div class=\"sk-container\" hidden><div class=\"sk-item\"><div class=\"sk-estimator sk-toggleable\"><input class=\"sk-toggleable__control sk-hidden--visually\" id=\"sk-estimator-id-4\" type=\"checkbox\" checked><label for=\"sk-estimator-id-4\" class=\"sk-toggleable__label sk-toggleable__label-arrow\">TPOTClassifier</label><div class=\"sk-toggleable__content\"><pre>TPOTClassifier(config_dict={&#x27;sklearn.ensemble.RandomForestClassifier&#x27;: {&#x27;criterion&#x27;: [&#x27;entropy&#x27;,\n",
              "                                                                                      &#x27;gini&#x27;],\n",
              "                                                                        &#x27;max_depth&#x27;: [2],\n",
              "                                                                        &#x27;max_features&#x27;: [&#x27;auto&#x27;],\n",
              "                                                                        &#x27;min_samples_leaf&#x27;: [4,\n",
              "                                                                                             12],\n",
              "                                                                        &#x27;min_samples_split&#x27;: [5,\n",
              "                                                                                              10],\n",
              "                                                                        &#x27;n_estimators&#x27;: [10]}},\n",
              "               cv=4, early_stop=12, generations=4, offspring_size=12,\n",
              "               population_size=24, scoring=&#x27;accuracy&#x27;, verbosity=2)</pre></div></div></div></div></div>"
            ]
          },
          "metadata": {},
          "execution_count": 12
        }
      ]
    },
    {
      "cell_type": "code",
      "source": [
        "accuracy = tpot_classifier.score(X_Test, Y_Test)\n",
        "print(accuracy)"
      ],
      "metadata": {
        "colab": {
          "base_uri": "https://localhost:8080/"
        },
        "id": "n7dEX03BZSSD",
        "outputId": "6d50f6ca-bd9e-4dc1-f7d7-a03e8cf15eb4"
      },
      "execution_count": 13,
      "outputs": [
        {
          "output_type": "stream",
          "name": "stderr",
          "text": [
            "/usr/local/lib/python3.9/dist-packages/sklearn/metrics/_scorer.py:794: FutureWarning: sklearn.metrics.SCORERS is deprecated and will be removed in v1.3. Please use sklearn.metrics.get_scorer_names to get a list of available scorers and sklearn.metrics.get_metric to get scorer.\n",
            "  warnings.warn(\n"
          ]
        },
        {
          "output_type": "stream",
          "name": "stdout",
          "text": [
            "0.9993328885923949\n"
          ]
        }
      ]
    },
    {
      "cell_type": "markdown",
      "source": [
        "# ANN Tuning (Artificial Neural Network)"
      ],
      "metadata": {
        "id": "WvjWBe-yZZJY"
      }
    },
    {
      "cell_type": "code",
      "source": [
        "from keras.models import Sequential\n",
        "from keras.layers import Dense, Dropout\n",
        "from keras.wrappers.scikit_learn import KerasClassifier"
      ],
      "metadata": {
        "id": "gId5x7uNZYZc"
      },
      "execution_count": 14,
      "outputs": []
    },
    {
      "cell_type": "code",
      "source": [
        "def DL_Model(activation= 'linear', neurons= 5, optimizer='Adam'):\n",
        "    model = Sequential()\n",
        "    model.add(Dense(neurons, input_dim= 4, activation= activation))\n",
        "    model.add(Dense(neurons, activation= activation))\n",
        "    model.add(Dropout(0.3))\n",
        "    model.add(Dense(1, activation='sigmoid'))\n",
        "    model.compile(loss='binary_crossentropy', optimizer= optimizer, metrics=['accuracy'])\n",
        "    return model"
      ],
      "metadata": {
        "id": "9jXQF9F3ZfHM"
      },
      "execution_count": 15,
      "outputs": []
    },
    {
      "cell_type": "code",
      "source": [
        "# Defining grid parameters\n",
        "activation = ['softmax', 'relu']\n",
        "neurons = [5, 10]\n",
        "optimizer = ['Adam', 'Adamax']\n",
        "param_grid = dict(activation = activation, neurons = neurons, optimizer = optimizer)\n",
        "\n",
        "clf = KerasClassifier(build_fn= DL_Model, epochs= 5, batch_size=1024, verbose= 2)"
      ],
      "metadata": {
        "colab": {
          "base_uri": "https://localhost:8080/"
        },
        "id": "UKhP9YIEayev",
        "outputId": "eef9e649-80f6-43e7-83a1-6b8b8bc87570"
      },
      "execution_count": 16,
      "outputs": [
        {
          "output_type": "stream",
          "name": "stderr",
          "text": [
            "<ipython-input-16-bf021f366bc5>:7: DeprecationWarning: KerasClassifier is deprecated, use Sci-Keras (https://github.com/adriangb/scikeras) instead. See https://www.adriangb.com/scikeras/stable/migration.html for help migrating.\n",
            "  clf = KerasClassifier(build_fn= DL_Model, epochs= 5, batch_size=1024, verbose= 2)\n"
          ]
        }
      ]
    },
    {
      "cell_type": "code",
      "source": [
        "model = GridSearchCV(estimator= clf, param_grid=param_grid, n_jobs=-1)\n",
        "model.fit(X_Train,Y_Train)"
      ],
      "metadata": {
        "colab": {
          "base_uri": "https://localhost:8080/",
          "height": 291
        },
        "id": "H8B4lFD2a1Kk",
        "outputId": "4e50006b-9a6c-4cb1-c6b5-ba24fd243bae"
      },
      "execution_count": 17,
      "outputs": [
        {
          "output_type": "stream",
          "name": "stdout",
          "text": [
            "Epoch 1/5\n",
            "195/195 - 1s - loss: 0.3304 - accuracy: 0.9690 - 1s/epoch - 6ms/step\n",
            "Epoch 2/5\n",
            "195/195 - 0s - loss: 0.0549 - accuracy: 0.9983 - 337ms/epoch - 2ms/step\n",
            "Epoch 3/5\n",
            "195/195 - 0s - loss: 0.0253 - accuracy: 0.9983 - 365ms/epoch - 2ms/step\n",
            "Epoch 4/5\n",
            "195/195 - 0s - loss: 0.0178 - accuracy: 0.9983 - 342ms/epoch - 2ms/step\n",
            "Epoch 5/5\n",
            "195/195 - 0s - loss: 0.0149 - accuracy: 0.9983 - 329ms/epoch - 2ms/step\n"
          ]
        },
        {
          "output_type": "execute_result",
          "data": {
            "text/plain": [
              "GridSearchCV(estimator=<keras.wrappers.scikit_learn.KerasClassifier object at 0x7f1286fd6790>,\n",
              "             n_jobs=-1,\n",
              "             param_grid={'activation': ['softmax', 'relu'], 'neurons': [5, 10],\n",
              "                         'optimizer': ['Adam', 'Adamax']})"
            ],
            "text/html": [
              "<style>#sk-container-id-3 {color: black;background-color: white;}#sk-container-id-3 pre{padding: 0;}#sk-container-id-3 div.sk-toggleable {background-color: white;}#sk-container-id-3 label.sk-toggleable__label {cursor: pointer;display: block;width: 100%;margin-bottom: 0;padding: 0.3em;box-sizing: border-box;text-align: center;}#sk-container-id-3 label.sk-toggleable__label-arrow:before {content: \"▸\";float: left;margin-right: 0.25em;color: #696969;}#sk-container-id-3 label.sk-toggleable__label-arrow:hover:before {color: black;}#sk-container-id-3 div.sk-estimator:hover label.sk-toggleable__label-arrow:before {color: black;}#sk-container-id-3 div.sk-toggleable__content {max-height: 0;max-width: 0;overflow: hidden;text-align: left;background-color: #f0f8ff;}#sk-container-id-3 div.sk-toggleable__content pre {margin: 0.2em;color: black;border-radius: 0.25em;background-color: #f0f8ff;}#sk-container-id-3 input.sk-toggleable__control:checked~div.sk-toggleable__content {max-height: 200px;max-width: 100%;overflow: auto;}#sk-container-id-3 input.sk-toggleable__control:checked~label.sk-toggleable__label-arrow:before {content: \"▾\";}#sk-container-id-3 div.sk-estimator input.sk-toggleable__control:checked~label.sk-toggleable__label {background-color: #d4ebff;}#sk-container-id-3 div.sk-label input.sk-toggleable__control:checked~label.sk-toggleable__label {background-color: #d4ebff;}#sk-container-id-3 input.sk-hidden--visually {border: 0;clip: rect(1px 1px 1px 1px);clip: rect(1px, 1px, 1px, 1px);height: 1px;margin: -1px;overflow: hidden;padding: 0;position: absolute;width: 1px;}#sk-container-id-3 div.sk-estimator {font-family: monospace;background-color: #f0f8ff;border: 1px dotted black;border-radius: 0.25em;box-sizing: border-box;margin-bottom: 0.5em;}#sk-container-id-3 div.sk-estimator:hover {background-color: #d4ebff;}#sk-container-id-3 div.sk-parallel-item::after {content: \"\";width: 100%;border-bottom: 1px solid gray;flex-grow: 1;}#sk-container-id-3 div.sk-label:hover label.sk-toggleable__label {background-color: #d4ebff;}#sk-container-id-3 div.sk-serial::before {content: \"\";position: absolute;border-left: 1px solid gray;box-sizing: border-box;top: 0;bottom: 0;left: 50%;z-index: 0;}#sk-container-id-3 div.sk-serial {display: flex;flex-direction: column;align-items: center;background-color: white;padding-right: 0.2em;padding-left: 0.2em;position: relative;}#sk-container-id-3 div.sk-item {position: relative;z-index: 1;}#sk-container-id-3 div.sk-parallel {display: flex;align-items: stretch;justify-content: center;background-color: white;position: relative;}#sk-container-id-3 div.sk-item::before, #sk-container-id-3 div.sk-parallel-item::before {content: \"\";position: absolute;border-left: 1px solid gray;box-sizing: border-box;top: 0;bottom: 0;left: 50%;z-index: -1;}#sk-container-id-3 div.sk-parallel-item {display: flex;flex-direction: column;z-index: 1;position: relative;background-color: white;}#sk-container-id-3 div.sk-parallel-item:first-child::after {align-self: flex-end;width: 50%;}#sk-container-id-3 div.sk-parallel-item:last-child::after {align-self: flex-start;width: 50%;}#sk-container-id-3 div.sk-parallel-item:only-child::after {width: 0;}#sk-container-id-3 div.sk-dashed-wrapped {border: 1px dashed gray;margin: 0 0.4em 0.5em 0.4em;box-sizing: border-box;padding-bottom: 0.4em;background-color: white;}#sk-container-id-3 div.sk-label label {font-family: monospace;font-weight: bold;display: inline-block;line-height: 1.2em;}#sk-container-id-3 div.sk-label-container {text-align: center;}#sk-container-id-3 div.sk-container {/* jupyter's `normalize.less` sets `[hidden] { display: none; }` but bootstrap.min.css set `[hidden] { display: none !important; }` so we also need the `!important` here to be able to override the default hidden behavior on the sphinx rendered scikit-learn.org. See: https://github.com/scikit-learn/scikit-learn/issues/21755 */display: inline-block !important;position: relative;}#sk-container-id-3 div.sk-text-repr-fallback {display: none;}</style><div id=\"sk-container-id-3\" class=\"sk-top-container\"><div class=\"sk-text-repr-fallback\"><pre>GridSearchCV(estimator=&lt;keras.wrappers.scikit_learn.KerasClassifier object at 0x7f1286fd6790&gt;,\n",
              "             n_jobs=-1,\n",
              "             param_grid={&#x27;activation&#x27;: [&#x27;softmax&#x27;, &#x27;relu&#x27;], &#x27;neurons&#x27;: [5, 10],\n",
              "                         &#x27;optimizer&#x27;: [&#x27;Adam&#x27;, &#x27;Adamax&#x27;]})</pre><b>In a Jupyter environment, please rerun this cell to show the HTML representation or trust the notebook. <br />On GitHub, the HTML representation is unable to render, please try loading this page with nbviewer.org.</b></div><div class=\"sk-container\" hidden><div class=\"sk-item sk-dashed-wrapped\"><div class=\"sk-label-container\"><div class=\"sk-label sk-toggleable\"><input class=\"sk-toggleable__control sk-hidden--visually\" id=\"sk-estimator-id-5\" type=\"checkbox\" ><label for=\"sk-estimator-id-5\" class=\"sk-toggleable__label sk-toggleable__label-arrow\">GridSearchCV</label><div class=\"sk-toggleable__content\"><pre>GridSearchCV(estimator=&lt;keras.wrappers.scikit_learn.KerasClassifier object at 0x7f1286fd6790&gt;,\n",
              "             n_jobs=-1,\n",
              "             param_grid={&#x27;activation&#x27;: [&#x27;softmax&#x27;, &#x27;relu&#x27;], &#x27;neurons&#x27;: [5, 10],\n",
              "                         &#x27;optimizer&#x27;: [&#x27;Adam&#x27;, &#x27;Adamax&#x27;]})</pre></div></div></div><div class=\"sk-parallel\"><div class=\"sk-parallel-item\"><div class=\"sk-item\"><div class=\"sk-label-container\"><div class=\"sk-label sk-toggleable\"><input class=\"sk-toggleable__control sk-hidden--visually\" id=\"sk-estimator-id-6\" type=\"checkbox\" ><label for=\"sk-estimator-id-6\" class=\"sk-toggleable__label sk-toggleable__label-arrow\">estimator: KerasClassifier</label><div class=\"sk-toggleable__content\"><pre>&lt;keras.wrappers.scikit_learn.KerasClassifier object at 0x7f1286fd6790&gt;</pre></div></div></div><div class=\"sk-serial\"><div class=\"sk-item\"><div class=\"sk-estimator sk-toggleable\"><input class=\"sk-toggleable__control sk-hidden--visually\" id=\"sk-estimator-id-7\" type=\"checkbox\" ><label for=\"sk-estimator-id-7\" class=\"sk-toggleable__label sk-toggleable__label-arrow\">KerasClassifier</label><div class=\"sk-toggleable__content\"><pre>&lt;keras.wrappers.scikit_learn.KerasClassifier object at 0x7f1286fd6790&gt;</pre></div></div></div></div></div></div></div></div></div></div>"
            ]
          },
          "metadata": {},
          "execution_count": 17
        }
      ]
    },
    {
      "cell_type": "code",
      "source": [
        "print(\"Max Accuracy Registred: {} using {}\".format(round(model.best_score_,3), \n",
        "                                                   model.best_params_))"
      ],
      "metadata": {
        "colab": {
          "base_uri": "https://localhost:8080/"
        },
        "id": "9MHh2fGla3Iw",
        "outputId": "0608899d-d4b6-4143-97bc-c2ca00fdfc62"
      },
      "execution_count": 18,
      "outputs": [
        {
          "output_type": "stream",
          "name": "stdout",
          "text": [
            "Max Accuracy Registred: 0.998 using {'activation': 'relu', 'neurons': 10, 'optimizer': 'Adam'}\n"
          ]
        }
      ]
    },
    {
      "cell_type": "code",
      "source": [
        "prediction_test = model.predict(X_Test)\n",
        "print(confusion_matrix(Y_Test,prediction_test))\n",
        "print(classification_report(Y_Test,prediction_test))\n",
        "accuracy_ANN = accuracy_score(Y_Test,prediction_test)"
      ],
      "metadata": {
        "colab": {
          "base_uri": "https://localhost:8080/"
        },
        "id": "YzLByKTba5SM",
        "outputId": "a647e96d-5a5f-4939-e57c-cc51decdff88"
      },
      "execution_count": 19,
      "outputs": [
        {
          "output_type": "stream",
          "name": "stdout",
          "text": [
            "2671/2671 [==============================] - 4s 1ms/step\n",
            "[[85299     0]\n",
            " [  144     0]]\n",
            "              precision    recall  f1-score   support\n",
            "\n",
            "           0       1.00      1.00      1.00     85299\n",
            "           1       0.00      0.00      0.00       144\n",
            "\n",
            "    accuracy                           1.00     85443\n",
            "   macro avg       0.50      0.50      0.50     85443\n",
            "weighted avg       1.00      1.00      1.00     85443\n",
            "\n"
          ]
        },
        {
          "output_type": "stream",
          "name": "stderr",
          "text": [
            "/usr/local/lib/python3.9/dist-packages/sklearn/metrics/_classification.py:1344: UndefinedMetricWarning: Precision and F-score are ill-defined and being set to 0.0 in labels with no predicted samples. Use `zero_division` parameter to control this behavior.\n",
            "  _warn_prf(average, modifier, msg_start, len(result))\n",
            "/usr/local/lib/python3.9/dist-packages/sklearn/metrics/_classification.py:1344: UndefinedMetricWarning: Precision and F-score are ill-defined and being set to 0.0 in labels with no predicted samples. Use `zero_division` parameter to control this behavior.\n",
            "  _warn_prf(average, modifier, msg_start, len(result))\n",
            "/usr/local/lib/python3.9/dist-packages/sklearn/metrics/_classification.py:1344: UndefinedMetricWarning: Precision and F-score are ill-defined and being set to 0.0 in labels with no predicted samples. Use `zero_division` parameter to control this behavior.\n",
            "  _warn_prf(average, modifier, msg_start, len(result))\n"
          ]
        }
      ]
    },
    {
      "cell_type": "code",
      "source": [
        "!pip install optuna"
      ],
      "metadata": {
        "colab": {
          "base_uri": "https://localhost:8080/"
        },
        "id": "XYEaHo-ia7Yh",
        "outputId": "a67575ff-50c9-42c2-b3f6-d429c30a13d8"
      },
      "execution_count": 20,
      "outputs": [
        {
          "output_type": "stream",
          "name": "stdout",
          "text": [
            "Looking in indexes: https://pypi.org/simple, https://us-python.pkg.dev/colab-wheels/public/simple/\n",
            "Requirement already satisfied: optuna in /usr/local/lib/python3.9/dist-packages (3.1.1)\n",
            "Requirement already satisfied: tqdm in /usr/local/lib/python3.9/dist-packages (from optuna) (4.65.0)\n",
            "Requirement already satisfied: numpy in /usr/local/lib/python3.9/dist-packages (from optuna) (1.22.4)\n",
            "Requirement already satisfied: PyYAML in /usr/local/lib/python3.9/dist-packages (from optuna) (6.0)\n",
            "Requirement already satisfied: colorlog in /usr/local/lib/python3.9/dist-packages (from optuna) (6.7.0)\n",
            "Requirement already satisfied: sqlalchemy>=1.3.0 in /usr/local/lib/python3.9/dist-packages (from optuna) (2.0.9)\n",
            "Requirement already satisfied: packaging>=20.0 in /usr/local/lib/python3.9/dist-packages (from optuna) (23.1)\n",
            "Requirement already satisfied: alembic>=1.5.0 in /usr/local/lib/python3.9/dist-packages (from optuna) (1.10.4)\n",
            "Requirement already satisfied: cmaes>=0.9.1 in /usr/local/lib/python3.9/dist-packages (from optuna) (0.9.1)\n",
            "Requirement already satisfied: typing-extensions>=4 in /usr/local/lib/python3.9/dist-packages (from alembic>=1.5.0->optuna) (4.5.0)\n",
            "Requirement already satisfied: Mako in /usr/local/lib/python3.9/dist-packages (from alembic>=1.5.0->optuna) (1.2.4)\n",
            "Requirement already satisfied: greenlet!=0.4.17 in /usr/local/lib/python3.9/dist-packages (from sqlalchemy>=1.3.0->optuna) (2.0.2)\n",
            "Requirement already satisfied: MarkupSafe>=0.9.2 in /usr/local/lib/python3.9/dist-packages (from Mako->alembic>=1.5.0->optuna) (2.1.2)\n"
          ]
        }
      ]
    },
    {
      "cell_type": "code",
      "source": [
        "import sklearn\n",
        "import sklearn.datasets\n",
        "import sklearn.ensemble\n",
        "import sklearn.model_selection\n",
        "import sklearn.svm\n",
        "import optuna\n",
        "\n",
        "# 1. Define an objective function to be maximized.\n",
        "def objective(trial):\n",
        "    iris = sklearn.datasets.load_iris()\n",
        "    x, y = iris.data, iris.target\n",
        "    # 2. Suggest values for the hyperparameters using a trial object.\n",
        "    classifier_name = trial.suggest_categorical('classifier', ['SVC', 'RandomForest'])\n",
        "    if classifier_name == 'SVC':\n",
        "         svc_c = trial.suggest_loguniform('svc_c', 1e-10, 1e10)\n",
        "         classifier_obj = sklearn.svm.SVC(C=svc_c, gamma='auto')\n",
        "    else:\n",
        "        rf_max_depth = int(trial.suggest_loguniform('rf_max_depth', 2, 32))\n",
        "        classifier_obj = sklearn.ensemble.RandomForestClassifier(max_depth=rf_max_depth, n_estimators=10)\n",
        "    ...\n",
        "    return accuracy\n",
        "\n",
        "\n",
        "# 3. Create a study object and optimize the objective function.\n",
        "study = optuna.create_study(direction='maximize')\n",
        "study.optimize(objective, n_trials=100)"
      ],
      "metadata": {
        "colab": {
          "base_uri": "https://localhost:8080/"
        },
        "id": "ncKLKZ7_bBbg",
        "outputId": "cc1c56f1-34a0-4533-f4e3-7119fe203e37"
      },
      "execution_count": 21,
      "outputs": [
        {
          "output_type": "stream",
          "name": "stderr",
          "text": [
            "\u001b[32m[I 2023-04-25 09:25:10,947]\u001b[0m A new study created in memory with name: no-name-bc71fdd9-57bb-4ff2-8e23-df333d57bb0e\u001b[0m\n",
            "<ipython-input-21-0afde9f93c7e>:15: FutureWarning: suggest_loguniform has been deprecated in v3.0.0. This feature will be removed in v6.0.0. See https://github.com/optuna/optuna/releases/tag/v3.0.0. Use :func:`~optuna.trial.Trial.suggest_float` instead.\n",
            "  svc_c = trial.suggest_loguniform('svc_c', 1e-10, 1e10)\n",
            "\u001b[32m[I 2023-04-25 09:25:10,953]\u001b[0m Trial 0 finished with value: 0.9993328885923949 and parameters: {'classifier': 'SVC', 'svc_c': 165.8143738972841}. Best is trial 0 with value: 0.9993328885923949.\u001b[0m\n",
            "\u001b[32m[I 2023-04-25 09:25:10,957]\u001b[0m Trial 1 finished with value: 0.9993328885923949 and parameters: {'classifier': 'SVC', 'svc_c': 0.1721101771331414}. Best is trial 0 with value: 0.9993328885923949.\u001b[0m\n",
            "\u001b[32m[I 2023-04-25 09:25:10,961]\u001b[0m Trial 2 finished with value: 0.9993328885923949 and parameters: {'classifier': 'SVC', 'svc_c': 2.952200640025481}. Best is trial 0 with value: 0.9993328885923949.\u001b[0m\n",
            "<ipython-input-21-0afde9f93c7e>:18: FutureWarning: suggest_loguniform has been deprecated in v3.0.0. This feature will be removed in v6.0.0. See https://github.com/optuna/optuna/releases/tag/v3.0.0. Use :func:`~optuna.trial.Trial.suggest_float` instead.\n",
            "  rf_max_depth = int(trial.suggest_loguniform('rf_max_depth', 2, 32))\n",
            "\u001b[32m[I 2023-04-25 09:25:10,965]\u001b[0m Trial 3 finished with value: 0.9993328885923949 and parameters: {'classifier': 'RandomForest', 'rf_max_depth': 3.9662870880018626}. Best is trial 0 with value: 0.9993328885923949.\u001b[0m\n",
            "\u001b[32m[I 2023-04-25 09:25:10,970]\u001b[0m Trial 4 finished with value: 0.9993328885923949 and parameters: {'classifier': 'RandomForest', 'rf_max_depth': 8.15721169078985}. Best is trial 0 with value: 0.9993328885923949.\u001b[0m\n",
            "\u001b[32m[I 2023-04-25 09:25:10,974]\u001b[0m Trial 5 finished with value: 0.9993328885923949 and parameters: {'classifier': 'SVC', 'svc_c': 5.198249822508549}. Best is trial 0 with value: 0.9993328885923949.\u001b[0m\n",
            "\u001b[32m[I 2023-04-25 09:25:10,982]\u001b[0m Trial 6 finished with value: 0.9993328885923949 and parameters: {'classifier': 'SVC', 'svc_c': 201834.67310260265}. Best is trial 0 with value: 0.9993328885923949.\u001b[0m\n",
            "\u001b[32m[I 2023-04-25 09:25:10,990]\u001b[0m Trial 7 finished with value: 0.9993328885923949 and parameters: {'classifier': 'RandomForest', 'rf_max_depth': 15.756958889724153}. Best is trial 0 with value: 0.9993328885923949.\u001b[0m\n",
            "\u001b[32m[I 2023-04-25 09:25:10,995]\u001b[0m Trial 8 finished with value: 0.9993328885923949 and parameters: {'classifier': 'SVC', 'svc_c': 0.0009378085900969467}. Best is trial 0 with value: 0.9993328885923949.\u001b[0m\n",
            "\u001b[32m[I 2023-04-25 09:25:11,001]\u001b[0m Trial 9 finished with value: 0.9993328885923949 and parameters: {'classifier': 'RandomForest', 'rf_max_depth': 3.406534767335315}. Best is trial 0 with value: 0.9993328885923949.\u001b[0m\n",
            "\u001b[32m[I 2023-04-25 09:25:11,013]\u001b[0m Trial 10 finished with value: 0.9993328885923949 and parameters: {'classifier': 'SVC', 'svc_c': 8.106182948303904e-10}. Best is trial 0 with value: 0.9993328885923949.\u001b[0m\n",
            "\u001b[32m[I 2023-04-25 09:25:11,022]\u001b[0m Trial 11 finished with value: 0.9993328885923949 and parameters: {'classifier': 'SVC', 'svc_c': 436194375.2059345}. Best is trial 0 with value: 0.9993328885923949.\u001b[0m\n",
            "\u001b[32m[I 2023-04-25 09:25:11,031]\u001b[0m Trial 12 finished with value: 0.9993328885923949 and parameters: {'classifier': 'SVC', 'svc_c': 744.6013411435199}. Best is trial 0 with value: 0.9993328885923949.\u001b[0m\n",
            "\u001b[32m[I 2023-04-25 09:25:11,039]\u001b[0m Trial 13 finished with value: 0.9993328885923949 and parameters: {'classifier': 'SVC', 'svc_c': 0.0005768084829157584}. Best is trial 0 with value: 0.9993328885923949.\u001b[0m\n",
            "\u001b[32m[I 2023-04-25 09:25:11,050]\u001b[0m Trial 14 finished with value: 0.9993328885923949 and parameters: {'classifier': 'SVC', 'svc_c': 184623.24889252987}. Best is trial 0 with value: 0.9993328885923949.\u001b[0m\n",
            "\u001b[32m[I 2023-04-25 09:25:11,058]\u001b[0m Trial 15 finished with value: 0.9993328885923949 and parameters: {'classifier': 'SVC', 'svc_c': 0.0031975763844172694}. Best is trial 0 with value: 0.9993328885923949.\u001b[0m\n",
            "\u001b[32m[I 2023-04-25 09:25:11,067]\u001b[0m Trial 16 finished with value: 0.9993328885923949 and parameters: {'classifier': 'SVC', 'svc_c': 967.6774935959736}. Best is trial 0 with value: 0.9993328885923949.\u001b[0m\n",
            "\u001b[32m[I 2023-04-25 09:25:11,075]\u001b[0m Trial 17 finished with value: 0.9993328885923949 and parameters: {'classifier': 'SVC', 'svc_c': 8602077026.617815}. Best is trial 0 with value: 0.9993328885923949.\u001b[0m\n",
            "\u001b[32m[I 2023-04-25 09:25:11,085]\u001b[0m Trial 18 finished with value: 0.9993328885923949 and parameters: {'classifier': 'RandomForest', 'rf_max_depth': 24.9239291323467}. Best is trial 0 with value: 0.9993328885923949.\u001b[0m\n",
            "\u001b[32m[I 2023-04-25 09:25:11,094]\u001b[0m Trial 19 finished with value: 0.9993328885923949 and parameters: {'classifier': 'SVC', 'svc_c': 1.1867581520662317e-06}. Best is trial 0 with value: 0.9993328885923949.\u001b[0m\n",
            "\u001b[32m[I 2023-04-25 09:25:11,103]\u001b[0m Trial 20 finished with value: 0.9993328885923949 and parameters: {'classifier': 'SVC', 'svc_c': 0.25297044715613487}. Best is trial 0 with value: 0.9993328885923949.\u001b[0m\n",
            "\u001b[32m[I 2023-04-25 09:25:11,113]\u001b[0m Trial 21 finished with value: 0.9993328885923949 and parameters: {'classifier': 'SVC', 'svc_c': 0.949059975954189}. Best is trial 0 with value: 0.9993328885923949.\u001b[0m\n",
            "\u001b[32m[I 2023-04-25 09:25:11,123]\u001b[0m Trial 22 finished with value: 0.9993328885923949 and parameters: {'classifier': 'SVC', 'svc_c': 35.60724150943354}. Best is trial 0 with value: 0.9993328885923949.\u001b[0m\n",
            "\u001b[32m[I 2023-04-25 09:25:11,131]\u001b[0m Trial 23 finished with value: 0.9993328885923949 and parameters: {'classifier': 'SVC', 'svc_c': 0.08924164110544651}. Best is trial 0 with value: 0.9993328885923949.\u001b[0m\n",
            "\u001b[32m[I 2023-04-25 09:25:11,140]\u001b[0m Trial 24 finished with value: 0.9993328885923949 and parameters: {'classifier': 'SVC', 'svc_c': 346.7047956567699}. Best is trial 0 with value: 0.9993328885923949.\u001b[0m\n",
            "\u001b[32m[I 2023-04-25 09:25:11,151]\u001b[0m Trial 25 finished with value: 0.9993328885923949 and parameters: {'classifier': 'SVC', 'svc_c': 0.011526348358541369}. Best is trial 0 with value: 0.9993328885923949.\u001b[0m\n",
            "\u001b[32m[I 2023-04-25 09:25:11,159]\u001b[0m Trial 26 finished with value: 0.9993328885923949 and parameters: {'classifier': 'RandomForest', 'rf_max_depth': 2.0126789127507454}. Best is trial 0 with value: 0.9993328885923949.\u001b[0m\n",
            "\u001b[32m[I 2023-04-25 09:25:11,168]\u001b[0m Trial 27 finished with value: 0.9993328885923949 and parameters: {'classifier': 'SVC', 'svc_c': 5.548404688140879}. Best is trial 0 with value: 0.9993328885923949.\u001b[0m\n",
            "\u001b[32m[I 2023-04-25 09:25:11,176]\u001b[0m Trial 28 finished with value: 0.9993328885923949 and parameters: {'classifier': 'SVC', 'svc_c': 1.2818772164241784e-05}. Best is trial 0 with value: 0.9993328885923949.\u001b[0m\n",
            "\u001b[32m[I 2023-04-25 09:25:11,187]\u001b[0m Trial 29 finished with value: 0.9993328885923949 and parameters: {'classifier': 'RandomForest', 'rf_max_depth': 27.909596417032898}. Best is trial 0 with value: 0.9993328885923949.\u001b[0m\n",
            "\u001b[32m[I 2023-04-25 09:25:11,197]\u001b[0m Trial 30 finished with value: 0.9993328885923949 and parameters: {'classifier': 'SVC', 'svc_c': 0.1644076201942992}. Best is trial 0 with value: 0.9993328885923949.\u001b[0m\n",
            "\u001b[32m[I 2023-04-25 09:25:11,205]\u001b[0m Trial 31 finished with value: 0.9993328885923949 and parameters: {'classifier': 'RandomForest', 'rf_max_depth': 4.857092078493999}. Best is trial 0 with value: 0.9993328885923949.\u001b[0m\n",
            "\u001b[32m[I 2023-04-25 09:25:11,214]\u001b[0m Trial 32 finished with value: 0.9993328885923949 and parameters: {'classifier': 'RandomForest', 'rf_max_depth': 7.706912456124711}. Best is trial 0 with value: 0.9993328885923949.\u001b[0m\n",
            "\u001b[32m[I 2023-04-25 09:25:11,225]\u001b[0m Trial 33 finished with value: 0.9993328885923949 and parameters: {'classifier': 'RandomForest', 'rf_max_depth': 2.04775617331069}. Best is trial 0 with value: 0.9993328885923949.\u001b[0m\n",
            "\u001b[32m[I 2023-04-25 09:25:11,233]\u001b[0m Trial 34 finished with value: 0.9993328885923949 and parameters: {'classifier': 'RandomForest', 'rf_max_depth': 4.3331465383192445}. Best is trial 0 with value: 0.9993328885923949.\u001b[0m\n",
            "\u001b[32m[I 2023-04-25 09:25:11,243]\u001b[0m Trial 35 finished with value: 0.9993328885923949 and parameters: {'classifier': 'RandomForest', 'rf_max_depth': 8.931709015494414}. Best is trial 0 with value: 0.9993328885923949.\u001b[0m\n",
            "\u001b[32m[I 2023-04-25 09:25:11,252]\u001b[0m Trial 36 finished with value: 0.9993328885923949 and parameters: {'classifier': 'RandomForest', 'rf_max_depth': 2.8840956881209183}. Best is trial 0 with value: 0.9993328885923949.\u001b[0m\n",
            "\u001b[32m[I 2023-04-25 09:25:11,263]\u001b[0m Trial 37 finished with value: 0.9993328885923949 and parameters: {'classifier': 'SVC', 'svc_c': 32062.485249807727}. Best is trial 0 with value: 0.9993328885923949.\u001b[0m\n",
            "\u001b[32m[I 2023-04-25 09:25:11,271]\u001b[0m Trial 38 finished with value: 0.9993328885923949 and parameters: {'classifier': 'RandomForest', 'rf_max_depth': 5.571395973784102}. Best is trial 0 with value: 0.9993328885923949.\u001b[0m\n",
            "\u001b[32m[I 2023-04-25 09:25:11,280]\u001b[0m Trial 39 finished with value: 0.9993328885923949 and parameters: {'classifier': 'SVC', 'svc_c': 21.477633091355674}. Best is trial 0 with value: 0.9993328885923949.\u001b[0m\n",
            "\u001b[32m[I 2023-04-25 09:25:11,293]\u001b[0m Trial 40 finished with value: 0.9993328885923949 and parameters: {'classifier': 'SVC', 'svc_c': 10095.30291031923}. Best is trial 0 with value: 0.9993328885923949.\u001b[0m\n",
            "\u001b[32m[I 2023-04-25 09:25:11,310]\u001b[0m Trial 41 finished with value: 0.9993328885923949 and parameters: {'classifier': 'RandomForest', 'rf_max_depth': 8.330056229716947}. Best is trial 0 with value: 0.9993328885923949.\u001b[0m\n",
            "\u001b[32m[I 2023-04-25 09:25:11,326]\u001b[0m Trial 42 finished with value: 0.9993328885923949 and parameters: {'classifier': 'RandomForest', 'rf_max_depth': 11.533396385937356}. Best is trial 0 with value: 0.9993328885923949.\u001b[0m\n",
            "\u001b[32m[I 2023-04-25 09:25:11,338]\u001b[0m Trial 43 finished with value: 0.9993328885923949 and parameters: {'classifier': 'RandomForest', 'rf_max_depth': 6.060657903962471}. Best is trial 0 with value: 0.9993328885923949.\u001b[0m\n",
            "\u001b[32m[I 2023-04-25 09:25:11,350]\u001b[0m Trial 44 finished with value: 0.9993328885923949 and parameters: {'classifier': 'RandomForest', 'rf_max_depth': 3.8072895500014083}. Best is trial 0 with value: 0.9993328885923949.\u001b[0m\n",
            "\u001b[32m[I 2023-04-25 09:25:11,359]\u001b[0m Trial 45 finished with value: 0.9993328885923949 and parameters: {'classifier': 'SVC', 'svc_c': 3748544.105015662}. Best is trial 0 with value: 0.9993328885923949.\u001b[0m\n",
            "\u001b[32m[I 2023-04-25 09:25:11,370]\u001b[0m Trial 46 finished with value: 0.9993328885923949 and parameters: {'classifier': 'RandomForest', 'rf_max_depth': 6.024653305037246}. Best is trial 0 with value: 0.9993328885923949.\u001b[0m\n",
            "\u001b[32m[I 2023-04-25 09:25:11,383]\u001b[0m Trial 47 finished with value: 0.9993328885923949 and parameters: {'classifier': 'SVC', 'svc_c': 70.25702377093113}. Best is trial 0 with value: 0.9993328885923949.\u001b[0m\n",
            "\u001b[32m[I 2023-04-25 09:25:11,392]\u001b[0m Trial 48 finished with value: 0.9993328885923949 and parameters: {'classifier': 'SVC', 'svc_c': 0.9317612962197719}. Best is trial 0 with value: 0.9993328885923949.\u001b[0m\n",
            "\u001b[32m[I 2023-04-25 09:25:11,405]\u001b[0m Trial 49 finished with value: 0.9993328885923949 and parameters: {'classifier': 'SVC', 'svc_c': 6.829663137298261}. Best is trial 0 with value: 0.9993328885923949.\u001b[0m\n",
            "\u001b[32m[I 2023-04-25 09:25:11,417]\u001b[0m Trial 50 finished with value: 0.9993328885923949 and parameters: {'classifier': 'RandomForest', 'rf_max_depth': 13.262166058989289}. Best is trial 0 with value: 0.9993328885923949.\u001b[0m\n",
            "\u001b[32m[I 2023-04-25 09:25:11,428]\u001b[0m Trial 51 finished with value: 0.9993328885923949 and parameters: {'classifier': 'SVC', 'svc_c': 5867.288099421437}. Best is trial 0 with value: 0.9993328885923949.\u001b[0m\n",
            "\u001b[32m[I 2023-04-25 09:25:11,443]\u001b[0m Trial 52 finished with value: 0.9993328885923949 and parameters: {'classifier': 'SVC', 'svc_c': 112.81681620453116}. Best is trial 0 with value: 0.9993328885923949.\u001b[0m\n",
            "\u001b[32m[I 2023-04-25 09:25:11,455]\u001b[0m Trial 53 finished with value: 0.9993328885923949 and parameters: {'classifier': 'SVC', 'svc_c': 7.516135442099272}. Best is trial 0 with value: 0.9993328885923949.\u001b[0m\n",
            "\u001b[32m[I 2023-04-25 09:25:11,466]\u001b[0m Trial 54 finished with value: 0.9993328885923949 and parameters: {'classifier': 'SVC', 'svc_c': 0.01428637253549012}. Best is trial 0 with value: 0.9993328885923949.\u001b[0m\n",
            "\u001b[32m[I 2023-04-25 09:25:11,477]\u001b[0m Trial 55 finished with value: 0.9993328885923949 and parameters: {'classifier': 'SVC', 'svc_c': 1743.9529159028934}. Best is trial 0 with value: 0.9993328885923949.\u001b[0m\n",
            "\u001b[32m[I 2023-04-25 09:25:11,487]\u001b[0m Trial 56 finished with value: 0.9993328885923949 and parameters: {'classifier': 'SVC', 'svc_c': 2.1600868181138195}. Best is trial 0 with value: 0.9993328885923949.\u001b[0m\n",
            "\u001b[32m[I 2023-04-25 09:25:11,499]\u001b[0m Trial 57 finished with value: 0.9993328885923949 and parameters: {'classifier': 'SVC', 'svc_c': 0.0002507608727668459}. Best is trial 0 with value: 0.9993328885923949.\u001b[0m\n",
            "\u001b[32m[I 2023-04-25 09:25:11,512]\u001b[0m Trial 58 finished with value: 0.9993328885923949 and parameters: {'classifier': 'SVC', 'svc_c': 197.7092325683809}. Best is trial 0 with value: 0.9993328885923949.\u001b[0m\n",
            "\u001b[32m[I 2023-04-25 09:25:11,521]\u001b[0m Trial 59 finished with value: 0.9993328885923949 and parameters: {'classifier': 'SVC', 'svc_c': 0.057576068674845673}. Best is trial 0 with value: 0.9993328885923949.\u001b[0m\n",
            "\u001b[32m[I 2023-04-25 09:25:11,530]\u001b[0m Trial 60 finished with value: 0.9993328885923949 and parameters: {'classifier': 'RandomForest', 'rf_max_depth': 3.1045011578442145}. Best is trial 0 with value: 0.9993328885923949.\u001b[0m\n",
            "\u001b[32m[I 2023-04-25 09:25:11,542]\u001b[0m Trial 61 finished with value: 0.9993328885923949 and parameters: {'classifier': 'SVC', 'svc_c': 988137.4159046044}. Best is trial 0 with value: 0.9993328885923949.\u001b[0m\n",
            "\u001b[32m[I 2023-04-25 09:25:11,552]\u001b[0m Trial 62 finished with value: 0.9993328885923949 and parameters: {'classifier': 'SVC', 'svc_c': 8495344.831781436}. Best is trial 0 with value: 0.9993328885923949.\u001b[0m\n",
            "\u001b[32m[I 2023-04-25 09:25:11,561]\u001b[0m Trial 63 finished with value: 0.9993328885923949 and parameters: {'classifier': 'SVC', 'svc_c': 22643.566533615947}. Best is trial 0 with value: 0.9993328885923949.\u001b[0m\n",
            "\u001b[32m[I 2023-04-25 09:25:11,572]\u001b[0m Trial 64 finished with value: 0.9993328885923949 and parameters: {'classifier': 'SVC', 'svc_c': 476.06646443427053}. Best is trial 0 with value: 0.9993328885923949.\u001b[0m\n",
            "\u001b[32m[I 2023-04-25 09:25:11,584]\u001b[0m Trial 65 finished with value: 0.9993328885923949 and parameters: {'classifier': 'SVC', 'svc_c': 0.8144164496787464}. Best is trial 0 with value: 0.9993328885923949.\u001b[0m\n",
            "\u001b[32m[I 2023-04-25 09:25:11,593]\u001b[0m Trial 66 finished with value: 0.9993328885923949 and parameters: {'classifier': 'SVC', 'svc_c': 25.802614694031895}. Best is trial 0 with value: 0.9993328885923949.\u001b[0m\n",
            "\u001b[32m[I 2023-04-25 09:25:11,603]\u001b[0m Trial 67 finished with value: 0.9993328885923949 and parameters: {'classifier': 'RandomForest', 'rf_max_depth': 4.37630201098537}. Best is trial 0 with value: 0.9993328885923949.\u001b[0m\n",
            "\u001b[32m[I 2023-04-25 09:25:11,614]\u001b[0m Trial 68 finished with value: 0.9993328885923949 and parameters: {'classifier': 'SVC', 'svc_c': 2976.053282479698}. Best is trial 0 with value: 0.9993328885923949.\u001b[0m\n",
            "\u001b[32m[I 2023-04-25 09:25:11,624]\u001b[0m Trial 69 finished with value: 0.9993328885923949 and parameters: {'classifier': 'RandomForest', 'rf_max_depth': 7.0369916064478435}. Best is trial 0 with value: 0.9993328885923949.\u001b[0m\n",
            "\u001b[32m[I 2023-04-25 09:25:11,633]\u001b[0m Trial 70 finished with value: 0.9993328885923949 and parameters: {'classifier': 'SVC', 'svc_c': 340489.977146043}. Best is trial 0 with value: 0.9993328885923949.\u001b[0m\n",
            "\u001b[32m[I 2023-04-25 09:25:11,642]\u001b[0m Trial 71 finished with value: 0.9993328885923949 and parameters: {'classifier': 'RandomForest', 'rf_max_depth': 17.57925415794105}. Best is trial 0 with value: 0.9993328885923949.\u001b[0m\n",
            "\u001b[32m[I 2023-04-25 09:25:11,650]\u001b[0m Trial 72 finished with value: 0.9993328885923949 and parameters: {'classifier': 'RandomForest', 'rf_max_depth': 11.25281831009303}. Best is trial 0 with value: 0.9993328885923949.\u001b[0m\n",
            "\u001b[32m[I 2023-04-25 09:25:11,661]\u001b[0m Trial 73 finished with value: 0.9993328885923949 and parameters: {'classifier': 'RandomForest', 'rf_max_depth': 17.028884606561814}. Best is trial 0 with value: 0.9993328885923949.\u001b[0m\n",
            "\u001b[32m[I 2023-04-25 09:25:11,670]\u001b[0m Trial 74 finished with value: 0.9993328885923949 and parameters: {'classifier': 'RandomForest', 'rf_max_depth': 9.593685838246246}. Best is trial 0 with value: 0.9993328885923949.\u001b[0m\n",
            "\u001b[32m[I 2023-04-25 09:25:11,681]\u001b[0m Trial 75 finished with value: 0.9993328885923949 and parameters: {'classifier': 'RandomForest', 'rf_max_depth': 7.496834538038936}. Best is trial 0 with value: 0.9993328885923949.\u001b[0m\n",
            "\u001b[32m[I 2023-04-25 09:25:11,691]\u001b[0m Trial 76 finished with value: 0.9993328885923949 and parameters: {'classifier': 'RandomForest', 'rf_max_depth': 6.552270338820208}. Best is trial 0 with value: 0.9993328885923949.\u001b[0m\n",
            "\u001b[32m[I 2023-04-25 09:25:11,703]\u001b[0m Trial 77 finished with value: 0.9993328885923949 and parameters: {'classifier': 'SVC', 'svc_c': 753.0235713578357}. Best is trial 0 with value: 0.9993328885923949.\u001b[0m\n",
            "\u001b[32m[I 2023-04-25 09:25:11,713]\u001b[0m Trial 78 finished with value: 0.9993328885923949 and parameters: {'classifier': 'RandomForest', 'rf_max_depth': 5.423615295834147}. Best is trial 0 with value: 0.9993328885923949.\u001b[0m\n",
            "\u001b[32m[I 2023-04-25 09:25:11,723]\u001b[0m Trial 79 finished with value: 0.9993328885923949 and parameters: {'classifier': 'SVC', 'svc_c': 99627.33695322156}. Best is trial 0 with value: 0.9993328885923949.\u001b[0m\n",
            "\u001b[32m[I 2023-04-25 09:25:11,733]\u001b[0m Trial 80 finished with value: 0.9993328885923949 and parameters: {'classifier': 'SVC', 'svc_c': 0.685125692874046}. Best is trial 0 with value: 0.9993328885923949.\u001b[0m\n",
            "\u001b[32m[I 2023-04-25 09:25:11,744]\u001b[0m Trial 81 finished with value: 0.9993328885923949 and parameters: {'classifier': 'SVC', 'svc_c': 0.0018223915360423045}. Best is trial 0 with value: 0.9993328885923949.\u001b[0m\n",
            "\u001b[32m[I 2023-04-25 09:25:11,754]\u001b[0m Trial 82 finished with value: 0.9993328885923949 and parameters: {'classifier': 'SVC', 'svc_c': 0.1255983937724356}. Best is trial 0 with value: 0.9993328885923949.\u001b[0m\n",
            "\u001b[32m[I 2023-04-25 09:25:11,764]\u001b[0m Trial 83 finished with value: 0.9993328885923949 and parameters: {'classifier': 'SVC', 'svc_c': 0.014559864171928769}. Best is trial 0 with value: 0.9993328885923949.\u001b[0m\n",
            "\u001b[32m[I 2023-04-25 09:25:11,774]\u001b[0m Trial 84 finished with value: 0.9993328885923949 and parameters: {'classifier': 'SVC', 'svc_c': 0.000486385877401832}. Best is trial 0 with value: 0.9993328885923949.\u001b[0m\n",
            "\u001b[32m[I 2023-04-25 09:25:11,786]\u001b[0m Trial 85 finished with value: 0.9993328885923949 and parameters: {'classifier': 'SVC', 'svc_c': 6.115865147990485}. Best is trial 0 with value: 0.9993328885923949.\u001b[0m\n",
            "\u001b[32m[I 2023-04-25 09:25:11,795]\u001b[0m Trial 86 finished with value: 0.9993328885923949 and parameters: {'classifier': 'RandomForest', 'rf_max_depth': 9.266640065213464}. Best is trial 0 with value: 0.9993328885923949.\u001b[0m\n",
            "\u001b[32m[I 2023-04-25 09:25:11,805]\u001b[0m Trial 87 finished with value: 0.9993328885923949 and parameters: {'classifier': 'SVC', 'svc_c': 0.30944662594086053}. Best is trial 0 with value: 0.9993328885923949.\u001b[0m\n",
            "\u001b[32m[I 2023-04-25 09:25:11,815]\u001b[0m Trial 88 finished with value: 0.9993328885923949 and parameters: {'classifier': 'RandomForest', 'rf_max_depth': 20.955841692614698}. Best is trial 0 with value: 0.9993328885923949.\u001b[0m\n",
            "\u001b[32m[I 2023-04-25 09:25:11,826]\u001b[0m Trial 89 finished with value: 0.9993328885923949 and parameters: {'classifier': 'SVC', 'svc_c': 30.403337240948865}. Best is trial 0 with value: 0.9993328885923949.\u001b[0m\n",
            "\u001b[32m[I 2023-04-25 09:25:11,836]\u001b[0m Trial 90 finished with value: 0.9993328885923949 and parameters: {'classifier': 'SVC', 'svc_c': 253.67556641160928}. Best is trial 0 with value: 0.9993328885923949.\u001b[0m\n",
            "\u001b[32m[I 2023-04-25 09:25:11,845]\u001b[0m Trial 91 finished with value: 0.9993328885923949 and parameters: {'classifier': 'RandomForest', 'rf_max_depth': 29.18792491116487}. Best is trial 0 with value: 0.9993328885923949.\u001b[0m\n",
            "\u001b[32m[I 2023-04-25 09:25:11,855]\u001b[0m Trial 92 finished with value: 0.9993328885923949 and parameters: {'classifier': 'RandomForest', 'rf_max_depth': 14.097213241343338}. Best is trial 0 with value: 0.9993328885923949.\u001b[0m\n",
            "\u001b[32m[I 2023-04-25 09:25:11,868]\u001b[0m Trial 93 finished with value: 0.9993328885923949 and parameters: {'classifier': 'RandomForest', 'rf_max_depth': 3.570993502422586}. Best is trial 0 with value: 0.9993328885923949.\u001b[0m\n",
            "\u001b[32m[I 2023-04-25 09:25:11,878]\u001b[0m Trial 94 finished with value: 0.9993328885923949 and parameters: {'classifier': 'RandomForest', 'rf_max_depth': 23.01720614659464}. Best is trial 0 with value: 0.9993328885923949.\u001b[0m\n",
            "\u001b[32m[I 2023-04-25 09:25:11,890]\u001b[0m Trial 95 finished with value: 0.9993328885923949 and parameters: {'classifier': 'RandomForest', 'rf_max_depth': 2.4626449595098427}. Best is trial 0 with value: 0.9993328885923949.\u001b[0m\n",
            "\u001b[32m[I 2023-04-25 09:25:11,902]\u001b[0m Trial 96 finished with value: 0.9993328885923949 and parameters: {'classifier': 'SVC', 'svc_c': 0.03677382372299243}. Best is trial 0 with value: 0.9993328885923949.\u001b[0m\n",
            "\u001b[32m[I 2023-04-25 09:25:11,914]\u001b[0m Trial 97 finished with value: 0.9993328885923949 and parameters: {'classifier': 'SVC', 'svc_c': 0.003398922851496356}. Best is trial 0 with value: 0.9993328885923949.\u001b[0m\n",
            "\u001b[32m[I 2023-04-25 09:25:11,924]\u001b[0m Trial 98 finished with value: 0.9993328885923949 and parameters: {'classifier': 'RandomForest', 'rf_max_depth': 4.115156113833114}. Best is trial 0 with value: 0.9993328885923949.\u001b[0m\n",
            "\u001b[32m[I 2023-04-25 09:25:11,936]\u001b[0m Trial 99 finished with value: 0.9993328885923949 and parameters: {'classifier': 'SVC', 'svc_c': 2.520299100593624}. Best is trial 0 with value: 0.9993328885923949.\u001b[0m\n"
          ]
        }
      ]
    },
    {
      "cell_type": "code",
      "source": [
        "!pip install parameter-sherpa"
      ],
      "metadata": {
        "colab": {
          "base_uri": "https://localhost:8080/"
        },
        "id": "glbsHfVscJg0",
        "outputId": "61cc6d00-fea2-45cf-f40f-09a5c86d6e29"
      },
      "execution_count": 22,
      "outputs": [
        {
          "output_type": "stream",
          "name": "stdout",
          "text": [
            "Looking in indexes: https://pypi.org/simple, https://us-python.pkg.dev/colab-wheels/public/simple/\n",
            "Requirement already satisfied: parameter-sherpa in /usr/local/lib/python3.9/dist-packages (1.0.6)\n",
            "Requirement already satisfied: enum34 in /usr/local/lib/python3.9/dist-packages (from parameter-sherpa) (1.1.10)\n",
            "Requirement already satisfied: matplotlib in /usr/local/lib/python3.9/dist-packages (from parameter-sherpa) (3.7.1)\n",
            "Requirement already satisfied: numpy>=1.8.2 in /usr/local/lib/python3.9/dist-packages (from parameter-sherpa) (1.22.4)\n",
            "Requirement already satisfied: flask>=0.12.2 in /usr/local/lib/python3.9/dist-packages (from parameter-sherpa) (2.2.3)\n",
            "Requirement already satisfied: scipy>=1.0.0 in /usr/local/lib/python3.9/dist-packages (from parameter-sherpa) (1.10.1)\n",
            "Requirement already satisfied: pymongo>=3.5.1 in /usr/local/lib/python3.9/dist-packages (from parameter-sherpa) (4.3.3)\n",
            "Requirement already satisfied: scikit-learn>=0.19.1 in /usr/local/lib/python3.9/dist-packages (from parameter-sherpa) (1.2.2)\n",
            "Requirement already satisfied: pandas>=0.20.3 in /usr/local/lib/python3.9/dist-packages (from parameter-sherpa) (1.5.3)\n",
            "Requirement already satisfied: GPyOpt>=1.2.5 in /usr/local/lib/python3.9/dist-packages (from parameter-sherpa) (1.2.6)\n",
            "Requirement already satisfied: importlib-metadata>=3.6.0 in /usr/local/lib/python3.9/dist-packages (from flask>=0.12.2->parameter-sherpa) (6.4.1)\n",
            "Requirement already satisfied: itsdangerous>=2.0 in /usr/local/lib/python3.9/dist-packages (from flask>=0.12.2->parameter-sherpa) (2.1.2)\n",
            "Requirement already satisfied: Jinja2>=3.0 in /usr/local/lib/python3.9/dist-packages (from flask>=0.12.2->parameter-sherpa) (3.1.2)\n",
            "Requirement already satisfied: Werkzeug>=2.2.2 in /usr/local/lib/python3.9/dist-packages (from flask>=0.12.2->parameter-sherpa) (2.2.3)\n",
            "Requirement already satisfied: click>=8.0 in /usr/local/lib/python3.9/dist-packages (from flask>=0.12.2->parameter-sherpa) (8.1.3)\n",
            "Requirement already satisfied: GPy>=1.8 in /usr/local/lib/python3.9/dist-packages (from GPyOpt>=1.2.5->parameter-sherpa) (1.10.0)\n",
            "Requirement already satisfied: pytz>=2020.1 in /usr/local/lib/python3.9/dist-packages (from pandas>=0.20.3->parameter-sherpa) (2022.7.1)\n",
            "Requirement already satisfied: python-dateutil>=2.8.1 in /usr/local/lib/python3.9/dist-packages (from pandas>=0.20.3->parameter-sherpa) (2.8.2)\n",
            "Requirement already satisfied: dnspython<3.0.0,>=1.16.0 in /usr/local/lib/python3.9/dist-packages (from pymongo>=3.5.1->parameter-sherpa) (2.3.0)\n",
            "Requirement already satisfied: threadpoolctl>=2.0.0 in /usr/local/lib/python3.9/dist-packages (from scikit-learn>=0.19.1->parameter-sherpa) (3.1.0)\n",
            "Requirement already satisfied: joblib>=1.1.1 in /usr/local/lib/python3.9/dist-packages (from scikit-learn>=0.19.1->parameter-sherpa) (1.2.0)\n",
            "Requirement already satisfied: pyparsing>=2.3.1 in /usr/local/lib/python3.9/dist-packages (from matplotlib->parameter-sherpa) (3.0.9)\n",
            "Requirement already satisfied: fonttools>=4.22.0 in /usr/local/lib/python3.9/dist-packages (from matplotlib->parameter-sherpa) (4.39.3)\n",
            "Requirement already satisfied: importlib-resources>=3.2.0 in /usr/local/lib/python3.9/dist-packages (from matplotlib->parameter-sherpa) (5.12.0)\n",
            "Requirement already satisfied: kiwisolver>=1.0.1 in /usr/local/lib/python3.9/dist-packages (from matplotlib->parameter-sherpa) (1.4.4)\n",
            "Requirement already satisfied: cycler>=0.10 in /usr/local/lib/python3.9/dist-packages (from matplotlib->parameter-sherpa) (0.11.0)\n",
            "Requirement already satisfied: packaging>=20.0 in /usr/local/lib/python3.9/dist-packages (from matplotlib->parameter-sherpa) (23.1)\n",
            "Requirement already satisfied: pillow>=6.2.0 in /usr/local/lib/python3.9/dist-packages (from matplotlib->parameter-sherpa) (8.4.0)\n",
            "Requirement already satisfied: contourpy>=1.0.1 in /usr/local/lib/python3.9/dist-packages (from matplotlib->parameter-sherpa) (1.0.7)\n",
            "Requirement already satisfied: six in /usr/local/lib/python3.9/dist-packages (from GPy>=1.8->GPyOpt>=1.2.5->parameter-sherpa) (1.16.0)\n",
            "Requirement already satisfied: paramz>=0.9.0 in /usr/local/lib/python3.9/dist-packages (from GPy>=1.8->GPyOpt>=1.2.5->parameter-sherpa) (0.9.5)\n",
            "Requirement already satisfied: cython>=0.29 in /usr/local/lib/python3.9/dist-packages (from GPy>=1.8->GPyOpt>=1.2.5->parameter-sherpa) (0.29.34)\n",
            "Requirement already satisfied: zipp>=0.5 in /usr/local/lib/python3.9/dist-packages (from importlib-metadata>=3.6.0->flask>=0.12.2->parameter-sherpa) (3.15.0)\n",
            "Requirement already satisfied: MarkupSafe>=2.0 in /usr/local/lib/python3.9/dist-packages (from Jinja2>=3.0->flask>=0.12.2->parameter-sherpa) (2.1.2)\n",
            "Requirement already satisfied: decorator>=4.0.10 in /usr/local/lib/python3.9/dist-packages (from paramz>=0.9.0->GPy>=1.8->GPyOpt>=1.2.5->parameter-sherpa) (4.4.2)\n"
          ]
        }
      ]
    },
    {
      "cell_type": "code",
      "source": [
        "from sklearn.datasets import load_breast_cancer\n",
        "from sklearn.ensemble import RandomForestClassifier\n",
        "from sklearn.model_selection import cross_val_score\n",
        "import time\n",
        "import sherpa\n",
        "import sherpa.algorithms.bayesian_optimization as bayesian_optimization"
      ],
      "metadata": {
        "id": "y4O6SJjMcNSA"
      },
      "execution_count": 23,
      "outputs": []
    },
    {
      "cell_type": "code",
      "source": [
        "parameters = [sherpa.Discrete('n_estimators', [2, 50]),\n",
        "              sherpa.Choice('criterion', ['gini', 'entropy']),\n",
        "              sherpa.Continuous('max_features', [0.1, 0.9])]\n",
        "\n",
        "algorithm = bayesian_optimization.GPyOpt(max_concurrent=1,model_type='GP_MCMC',acquisition_type='EI_MCMC',max_num_trials=10)"
      ],
      "metadata": {
        "id": "TBApUANpcPzf"
      },
      "execution_count": 24,
      "outputs": []
    },
    {
      "cell_type": "code",
      "source": [
        "X, y = load_breast_cancer(return_X_y=True)\n",
        "study = sherpa.Study(parameters=parameters,\n",
        "                     algorithm=algorithm,\n",
        "                     lower_is_better=False)\n",
        "\n",
        "for trial in study:\n",
        "    print(\"Trial \", trial.id, \" with parameters \", trial.parameters)\n",
        "    clf = RandomForestClassifier(criterion=trial.parameters['criterion'],\n",
        "                                 max_features=trial.parameters['max_features'],\n",
        "                                 n_estimators=trial.parameters['n_estimators'],\n",
        "                                 random_state=0)\n",
        "    scores = cross_val_score(clf, X, y, cv=5)\n",
        "    print(\"Score: \", scores.mean())\n",
        "    study.add_observation(trial, iteration=1, objective=scores.mean())\n",
        "    study.finalize(trial)\n",
        "print(study.get_best_result())"
      ],
      "metadata": {
        "colab": {
          "base_uri": "https://localhost:8080/"
        },
        "id": "QpiD3dl3ca-A",
        "outputId": "5cd73bdf-6f6a-4b2e-d93c-a2eaa05f6bbc"
      },
      "execution_count": 25,
      "outputs": [
        {
          "output_type": "stream",
          "name": "stdout",
          "text": [
            " * Serving Flask app 'sherpa.app.app'\n",
            " * Debug mode: on\n",
            "Trial  1  with parameters  {'n_estimators': 24, 'criterion': 'entropy', 'max_features': 0.7623811676884378}\n",
            "Score:  0.956078248719143\n",
            "Trial  2  with parameters  {'n_estimators': 41, 'criterion': 'entropy', 'max_features': 0.24492264352451176}\n",
            "Score:  0.9648657040832168\n",
            "Trial  3  with parameters  {'n_estimators': 5, 'criterion': 'gini', 'max_features': 0.7484842868916249}\n",
            "Score:  0.9438130725042695\n",
            "Trial  4  with parameters  {'n_estimators': 42, 'criterion': 'gini', 'max_features': 0.24865670614722815}\n"
          ]
        },
        {
          "output_type": "stream",
          "name": "stderr",
          "text": [
            "WARNING:rbf:reconstraining parameters GP_regression.rbf\n",
            "WARNING:variance:reconstraining parameters GP_regression.Gaussian_noise.variance\n"
          ]
        },
        {
          "output_type": "stream",
          "name": "stdout",
          "text": [
            "Score:  0.9595870206489675\n",
            "Trial  5  with parameters  {'n_estimators': 41, 'criterion': 'entropy', 'max_features': 0.24536873955220867}\n"
          ]
        },
        {
          "output_type": "stream",
          "name": "stderr",
          "text": [
            "WARNING:rbf:reconstraining parameters GP_regression.rbf\n",
            "WARNING:variance:reconstraining parameters GP_regression.Gaussian_noise.variance\n"
          ]
        },
        {
          "output_type": "stream",
          "name": "stdout",
          "text": [
            "Score:  0.9648657040832168\n",
            "Trial  6  with parameters  {'n_estimators': 38, 'criterion': 'entropy', 'max_features': 0.22988409470496762}\n"
          ]
        },
        {
          "output_type": "stream",
          "name": "stderr",
          "text": [
            "WARNING:rbf:reconstraining parameters GP_regression.rbf\n",
            "WARNING:variance:reconstraining parameters GP_regression.Gaussian_noise.variance\n"
          ]
        },
        {
          "output_type": "stream",
          "name": "stdout",
          "text": [
            "Score:  0.968390001552554\n",
            "Trial  7  with parameters  {'n_estimators': 38, 'criterion': 'entropy', 'max_features': 0.8521297263487614}\n"
          ]
        },
        {
          "output_type": "stream",
          "name": "stderr",
          "text": [
            "WARNING:rbf:reconstraining parameters GP_regression.rbf\n",
            "WARNING:variance:reconstraining parameters GP_regression.Gaussian_noise.variance\n"
          ]
        },
        {
          "output_type": "stream",
          "name": "stdout",
          "text": [
            "Score:  0.9543549138332559\n",
            "Trial  8  with parameters  {'n_estimators': 41, 'criterion': 'entropy', 'max_features': 0.21578355650313252}\n"
          ]
        },
        {
          "output_type": "stream",
          "name": "stderr",
          "text": [
            "WARNING:rbf:reconstraining parameters GP_regression.rbf\n",
            "WARNING:variance:reconstraining parameters GP_regression.Gaussian_noise.variance\n"
          ]
        },
        {
          "output_type": "stream",
          "name": "stdout",
          "text": [
            "Score:  0.968390001552554\n",
            "Trial  9  with parameters  {'n_estimators': 41, 'criterion': 'entropy', 'max_features': 0.1}\n"
          ]
        },
        {
          "output_type": "stream",
          "name": "stderr",
          "text": [
            "WARNING:rbf:reconstraining parameters GP_regression.rbf\n",
            "WARNING:variance:reconstraining parameters GP_regression.Gaussian_noise.variance\n"
          ]
        },
        {
          "output_type": "stream",
          "name": "stdout",
          "text": [
            "Score:  0.9701133364384413\n",
            "Trial  10  with parameters  {'n_estimators': 48, 'criterion': 'entropy', 'max_features': 0.1}\n",
            "Score:  0.9701133364384413\n",
            "{'Trial-ID': 9, 'Iteration': 1, 'criterion': 'entropy', 'max_features': 0.1, 'n_estimators': 41, 'Objective': 0.9701133364384413}\n"
          ]
        }
      ]
    }
  ]
}